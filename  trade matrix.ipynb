{
 "cells": [
  {
   "cell_type": "code",
   "execution_count": 1,
   "metadata": {},
   "outputs": [],
   "source": [
    "import pandas as pd\n",
    "import seaborn as sns"
   ]
  },
  {
   "cell_type": "code",
   "execution_count": 2,
   "metadata": {},
   "outputs": [],
   "source": [
    "trade_matrix = pd.read_csv('data/import_export.csv')"
   ]
  },
  {
   "cell_type": "code",
   "execution_count": 3,
   "metadata": {},
   "outputs": [
    {
     "data": {
      "text/html": [
       "<div>\n",
       "<style scoped>\n",
       "    .dataframe tbody tr th:only-of-type {\n",
       "        vertical-align: middle;\n",
       "    }\n",
       "\n",
       "    .dataframe tbody tr th {\n",
       "        vertical-align: top;\n",
       "    }\n",
       "\n",
       "    .dataframe thead th {\n",
       "        text-align: right;\n",
       "    }\n",
       "</style>\n",
       "<table border=\"1\" class=\"dataframe\">\n",
       "  <thead>\n",
       "    <tr style=\"text-align: right;\">\n",
       "      <th></th>\n",
       "      <th>Reporter Countries</th>\n",
       "      <th>Partner Country Code (M49)</th>\n",
       "      <th>Partner Countries</th>\n",
       "      <th>Element</th>\n",
       "      <th>Item Code (CPC)</th>\n",
       "      <th>Item</th>\n",
       "      <th>Year Code</th>\n",
       "      <th>Unit</th>\n",
       "      <th>Value</th>\n",
       "      <th>Flag Description</th>\n",
       "    </tr>\n",
       "  </thead>\n",
       "  <tbody>\n",
       "    <tr>\n",
       "      <th>0</th>\n",
       "      <td>Switzerland</td>\n",
       "      <td>4</td>\n",
       "      <td>Afghanistan</td>\n",
       "      <td>Import quantity</td>\n",
       "      <td>23161.02</td>\n",
       "      <td>Rice, milled</td>\n",
       "      <td>2023</td>\n",
       "      <td>t</td>\n",
       "      <td>50.00</td>\n",
       "      <td>Official figure</td>\n",
       "    </tr>\n",
       "    <tr>\n",
       "      <th>1</th>\n",
       "      <td>Switzerland</td>\n",
       "      <td>4</td>\n",
       "      <td>Afghanistan</td>\n",
       "      <td>Import quantity</td>\n",
       "      <td>F0030</td>\n",
       "      <td>Rice, paddy (rice milled equivalent)</td>\n",
       "      <td>2023</td>\n",
       "      <td>t</td>\n",
       "      <td>50.00</td>\n",
       "      <td>Estimated value</td>\n",
       "    </tr>\n",
       "    <tr>\n",
       "      <th>2</th>\n",
       "      <td>Switzerland</td>\n",
       "      <td>8</td>\n",
       "      <td>Albania</td>\n",
       "      <td>Import quantity</td>\n",
       "      <td>23161.02</td>\n",
       "      <td>Rice, milled</td>\n",
       "      <td>2016</td>\n",
       "      <td>t</td>\n",
       "      <td>2.32</td>\n",
       "      <td>Official figure</td>\n",
       "    </tr>\n",
       "    <tr>\n",
       "      <th>3</th>\n",
       "      <td>Switzerland</td>\n",
       "      <td>8</td>\n",
       "      <td>Albania</td>\n",
       "      <td>Export quantity</td>\n",
       "      <td>23161.02</td>\n",
       "      <td>Rice, milled</td>\n",
       "      <td>2005</td>\n",
       "      <td>t</td>\n",
       "      <td>0.00</td>\n",
       "      <td>Official figure</td>\n",
       "    </tr>\n",
       "    <tr>\n",
       "      <th>4</th>\n",
       "      <td>Switzerland</td>\n",
       "      <td>8</td>\n",
       "      <td>Albania</td>\n",
       "      <td>Import quantity</td>\n",
       "      <td>F0030</td>\n",
       "      <td>Rice, paddy (rice milled equivalent)</td>\n",
       "      <td>2016</td>\n",
       "      <td>t</td>\n",
       "      <td>2.32</td>\n",
       "      <td>Estimated value</td>\n",
       "    </tr>\n",
       "  </tbody>\n",
       "</table>\n",
       "</div>"
      ],
      "text/plain": [
       "  Reporter Countries  Partner Country Code (M49) Partner Countries  \\\n",
       "0        Switzerland                           4       Afghanistan   \n",
       "1        Switzerland                           4       Afghanistan   \n",
       "2        Switzerland                           8           Albania   \n",
       "3        Switzerland                           8           Albania   \n",
       "4        Switzerland                           8           Albania   \n",
       "\n",
       "           Element Item Code (CPC)                                  Item  \\\n",
       "0  Import quantity        23161.02                          Rice, milled   \n",
       "1  Import quantity           F0030  Rice, paddy (rice milled equivalent)   \n",
       "2  Import quantity        23161.02                          Rice, milled   \n",
       "3  Export quantity        23161.02                          Rice, milled   \n",
       "4  Import quantity           F0030  Rice, paddy (rice milled equivalent)   \n",
       "\n",
       "   Year Code Unit  Value Flag Description  \n",
       "0       2023    t  50.00  Official figure  \n",
       "1       2023    t  50.00  Estimated value  \n",
       "2       2016    t   2.32  Official figure  \n",
       "3       2005    t   0.00  Official figure  \n",
       "4       2016    t   2.32  Estimated value  "
      ]
     },
     "execution_count": 3,
     "metadata": {},
     "output_type": "execute_result"
    }
   ],
   "source": [
    "trade_matrix2 = trade_matrix.drop(columns=['Element Code', \"Domain\", \"Domain Code\", \"Year\", \"Flag\", \"Reporter Country Code (M49)\"])\n",
    "trade_matrix2.head()"
   ]
  },
  {
   "cell_type": "code",
   "execution_count": 4,
   "metadata": {},
   "outputs": [
    {
     "data": {
      "text/html": [
       "<div>\n",
       "<style scoped>\n",
       "    .dataframe tbody tr th:only-of-type {\n",
       "        vertical-align: middle;\n",
       "    }\n",
       "\n",
       "    .dataframe tbody tr th {\n",
       "        vertical-align: top;\n",
       "    }\n",
       "\n",
       "    .dataframe thead th {\n",
       "        text-align: right;\n",
       "    }\n",
       "</style>\n",
       "<table border=\"1\" class=\"dataframe\">\n",
       "  <thead>\n",
       "    <tr style=\"text-align: right;\">\n",
       "      <th></th>\n",
       "      <th>Partner Countries</th>\n",
       "      <th>Element</th>\n",
       "      <th>Value</th>\n",
       "    </tr>\n",
       "  </thead>\n",
       "  <tbody>\n",
       "    <tr>\n",
       "      <th>0</th>\n",
       "      <td>Afghanistan</td>\n",
       "      <td>Import quantity</td>\n",
       "      <td>50.000000</td>\n",
       "    </tr>\n",
       "    <tr>\n",
       "      <th>1</th>\n",
       "      <td>Albania</td>\n",
       "      <td>Export quantity</td>\n",
       "      <td>0.000000</td>\n",
       "    </tr>\n",
       "    <tr>\n",
       "      <th>2</th>\n",
       "      <td>Albania</td>\n",
       "      <td>Import quantity</td>\n",
       "      <td>2.320000</td>\n",
       "    </tr>\n",
       "    <tr>\n",
       "      <th>3</th>\n",
       "      <td>Algeria</td>\n",
       "      <td>Export quantity</td>\n",
       "      <td>0.000000</td>\n",
       "    </tr>\n",
       "    <tr>\n",
       "      <th>4</th>\n",
       "      <td>Algeria</td>\n",
       "      <td>Import quantity</td>\n",
       "      <td>0.270000</td>\n",
       "    </tr>\n",
       "    <tr>\n",
       "      <th>...</th>\n",
       "      <td>...</td>\n",
       "      <td>...</td>\n",
       "      <td>...</td>\n",
       "    </tr>\n",
       "    <tr>\n",
       "      <th>235</th>\n",
       "      <td>Venezuela (Bolivarian Republic of)</td>\n",
       "      <td>Import quantity</td>\n",
       "      <td>0.000000</td>\n",
       "    </tr>\n",
       "    <tr>\n",
       "      <th>236</th>\n",
       "      <td>Viet Nam</td>\n",
       "      <td>Export quantity</td>\n",
       "      <td>0.000000</td>\n",
       "    </tr>\n",
       "    <tr>\n",
       "      <th>237</th>\n",
       "      <td>Viet Nam</td>\n",
       "      <td>Import quantity</td>\n",
       "      <td>486.567255</td>\n",
       "    </tr>\n",
       "    <tr>\n",
       "      <th>238</th>\n",
       "      <td>Yugoslav SFR</td>\n",
       "      <td>Import quantity</td>\n",
       "      <td>5471.714286</td>\n",
       "    </tr>\n",
       "    <tr>\n",
       "      <th>239</th>\n",
       "      <td>Zimbabwe</td>\n",
       "      <td>Import quantity</td>\n",
       "      <td>27.900000</td>\n",
       "    </tr>\n",
       "  </tbody>\n",
       "</table>\n",
       "<p>240 rows × 3 columns</p>\n",
       "</div>"
      ],
      "text/plain": [
       "                      Partner Countries          Element        Value\n",
       "0                           Afghanistan  Import quantity    50.000000\n",
       "1                               Albania  Export quantity     0.000000\n",
       "2                               Albania  Import quantity     2.320000\n",
       "3                               Algeria  Export quantity     0.000000\n",
       "4                               Algeria  Import quantity     0.270000\n",
       "..                                  ...              ...          ...\n",
       "235  Venezuela (Bolivarian Republic of)  Import quantity     0.000000\n",
       "236                            Viet Nam  Export quantity     0.000000\n",
       "237                            Viet Nam  Import quantity   486.567255\n",
       "238                        Yugoslav SFR  Import quantity  5471.714286\n",
       "239                            Zimbabwe  Import quantity    27.900000\n",
       "\n",
       "[240 rows x 3 columns]"
      ]
     },
     "execution_count": 4,
     "metadata": {},
     "output_type": "execute_result"
    }
   ],
   "source": [
    "tm = trade_matrix.groupby([\"Partner Countries\", \"Element\"])[\"Value\"].mean().reset_index()\n",
    "tm"
   ]
  },
  {
   "cell_type": "code",
   "execution_count": 5,
   "metadata": {},
   "outputs": [
    {
     "data": {
      "text/plain": [
       "(19, 3)"
      ]
     },
     "execution_count": 5,
     "metadata": {},
     "output_type": "execute_result"
    }
   ],
   "source": [
    "reduced_TM = tm.loc[tm[\"Value\"]>=2000]\n",
    "reduced_TM.shape"
   ]
  },
  {
   "cell_type": "code",
   "execution_count": 6,
   "metadata": {},
   "outputs": [
    {
     "data": {
      "text/plain": [
       "<Axes: xlabel='Partner Countries', ylabel='Value'>"
      ]
     },
     "execution_count": 6,
     "metadata": {},
     "output_type": "execute_result"
    },
    {
     "data": {
      "image/png": "[encoded data removed]",
      "text/plain": [
       "<Figure size 640x480 with 1 Axes>"
      ]
     },
     "metadata": {},
     "output_type": "display_data"
    }
   ],
   "source": [
    "sns.barplot(x=\"Partner Countries\", y=\"Value\", hue=\"Element\", data=reduced_TM)"
   ]
  },
  {
   "cell_type": "code",
   "execution_count": 18,
   "metadata": {},
   "outputs": [
    {
     "name": "stdout",
     "output_type": "stream",
     "text": [
      "Description of exports of switerland  count    112.000000\n",
      "mean       8.895965\n",
      "std       25.781179\n",
      "min        0.000000\n",
      "25%        0.000000\n",
      "50%        1.000000\n",
      "75%        5.102888\n",
      "max      198.219400\n",
      "Name: Value, dtype: float64\n",
      "Total exports in tones 996.3480852591038\n"
     ]
    },
    {
     "data": {
      "text/plain": [
       "<Axes: xlabel='Value', ylabel='Count'>"
      ]
     },
     "execution_count": 18,
     "metadata": {},
     "output_type": "execute_result"
    },
    {
     "data": {
      "image/png": "[encoded data removed]",
      "text/plain": [
       "<Figure size 640x480 with 1 Axes>"
      ]
     },
     "metadata": {},
     "output_type": "display_data"
    }
   ],
   "source": [
    "export = tm.loc[tm[\"Element\"]== \"Export quantity\"]\n",
    "print(\"Description of exports of switerland \",export[\"Value\"].describe())\n",
    "print(\"Total exports in tones\",export[\"Value\"].sum())\n",
    "sns.histplot(export[\"Value\"], bins=30)"
   ]
  },
  {
   "cell_type": "code",
   "execution_count": 17,
   "metadata": {},
   "outputs": [
    {
     "name": "stdout",
     "output_type": "stream",
     "text": [
      "Description of imports of switerland  count      128.000000\n",
      "mean      1204.973559\n",
      "std       3462.581468\n",
      "min          0.000000\n",
      "25%          0.748148\n",
      "50%         23.156528\n",
      "75%        338.654331\n",
      "max      22365.545203\n",
      "Name: Value, dtype: float64\n",
      "Total imports in tones 154236.6155737898\n"
     ]
    },
    {
     "data": {
      "text/plain": [
       "<Axes: xlabel='Value', ylabel='Count'>"
      ]
     },
     "execution_count": 17,
     "metadata": {},
     "output_type": "execute_result"
    },
    {
     "data": {
      "image/png": "[encoded data removed]",
      "text/plain": [
       "<Figure size 640x480 with 1 Axes>"
      ]
     },
     "metadata": {},
     "output_type": "display_data"
    }
   ],
   "source": [
    "imports = tm.loc[tm[\"Element\"]== \"Import quantity\"]\n",
    "print(\"Description of imports of switerland \",imports[\"Value\"].describe())\n",
    "print(\"Total imports in tones\",imports[\"Value\"].sum())\n",
    "sns.histplot(imports[\"Value\"])"
   ]
  },
  {
   "cell_type": "code",
   "execution_count": null,
   "metadata": {},
   "outputs": [],
   "source": []
  }
 ],
 "metadata": {
  "kernelspec": {
   "display_name": "ada_homework_1",
   "language": "python",
   "name": "python3"
  },
  "language_info": {
   "codemirror_mode": {
    "name": "ipython",
    "version": 3
   },
   "file_extension": ".py",
   "mimetype": "text/x-python",
   "name": "python",
   "nbconvert_exporter": "python",
   "pygments_lexer": "ipython3",
   "version": "3.12.7"
  }
 },
 "nbformat": 4,
 "nbformat_minor": 2
}
