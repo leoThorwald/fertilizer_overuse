{
 "cells": [
  {
   "cell_type": "code",
   "execution_count": 17,
   "metadata": {},
   "outputs": [],
   "source": [
    "import pandas as pd\n",
    "import seaborn as sns"
   ]
  },
  {
   "cell_type": "code",
   "execution_count": 75,
   "metadata": {},
   "outputs": [],
   "source": [
    "fertilizer_df=pd.read_csv('FAOSTAT_fertilizer.csv')\n",
    "food_balances_df=pd.read_csv('FAOSTAT_food_balances.csv')"
   ]
  },
  {
   "cell_type": "code",
   "execution_count": 76,
   "metadata": {},
   "outputs": [
    {
     "data": {
      "text/html": [
       "<div>\n",
       "<style scoped>\n",
       "    .dataframe tbody tr th:only-of-type {\n",
       "        vertical-align: middle;\n",
       "    }\n",
       "\n",
       "    .dataframe tbody tr th {\n",
       "        vertical-align: top;\n",
       "    }\n",
       "\n",
       "    .dataframe thead th {\n",
       "        text-align: right;\n",
       "    }\n",
       "</style>\n",
       "<table border=\"1\" class=\"dataframe\">\n",
       "  <thead>\n",
       "    <tr style=\"text-align: right;\">\n",
       "      <th></th>\n",
       "      <th>Domain Code</th>\n",
       "      <th>Domain</th>\n",
       "      <th>Area Code (M49)</th>\n",
       "      <th>Area</th>\n",
       "      <th>Element Code</th>\n",
       "      <th>Element</th>\n",
       "      <th>Item Code</th>\n",
       "      <th>Item</th>\n",
       "      <th>Year Code</th>\n",
       "      <th>Year</th>\n",
       "      <th>Unit</th>\n",
       "      <th>Value</th>\n",
       "      <th>Flag</th>\n",
       "      <th>Flag Description</th>\n",
       "      <th>Note</th>\n",
       "    </tr>\n",
       "  </thead>\n",
       "  <tbody>\n",
       "    <tr>\n",
       "      <th>0</th>\n",
       "      <td>RFN</td>\n",
       "      <td>Fertilizers by Nutrient</td>\n",
       "      <td>4</td>\n",
       "      <td>Afghanistan</td>\n",
       "      <td>5610</td>\n",
       "      <td>Import quantity</td>\n",
       "      <td>3102</td>\n",
       "      <td>Nutrient nitrogen N (total)</td>\n",
       "      <td>1961</td>\n",
       "      <td>1961</td>\n",
       "      <td>t</td>\n",
       "      <td>1000.00</td>\n",
       "      <td>I</td>\n",
       "      <td>Imputed value</td>\n",
       "      <td>NaN</td>\n",
       "    </tr>\n",
       "    <tr>\n",
       "      <th>1</th>\n",
       "      <td>RFN</td>\n",
       "      <td>Fertilizers by Nutrient</td>\n",
       "      <td>4</td>\n",
       "      <td>Afghanistan</td>\n",
       "      <td>5157</td>\n",
       "      <td>Agricultural Use</td>\n",
       "      <td>3102</td>\n",
       "      <td>Nutrient nitrogen N (total)</td>\n",
       "      <td>1961</td>\n",
       "      <td>1961</td>\n",
       "      <td>t</td>\n",
       "      <td>1000.00</td>\n",
       "      <td>E</td>\n",
       "      <td>Estimated value</td>\n",
       "      <td>NaN</td>\n",
       "    </tr>\n",
       "    <tr>\n",
       "      <th>2</th>\n",
       "      <td>RFN</td>\n",
       "      <td>Fertilizers by Nutrient</td>\n",
       "      <td>4</td>\n",
       "      <td>Afghanistan</td>\n",
       "      <td>5159</td>\n",
       "      <td>Use per area of cropland</td>\n",
       "      <td>3102</td>\n",
       "      <td>Nutrient nitrogen N (total)</td>\n",
       "      <td>1961</td>\n",
       "      <td>1961</td>\n",
       "      <td>kg/ha</td>\n",
       "      <td>0.13</td>\n",
       "      <td>E</td>\n",
       "      <td>Estimated value</td>\n",
       "      <td>NaN</td>\n",
       "    </tr>\n",
       "    <tr>\n",
       "      <th>3</th>\n",
       "      <td>RFN</td>\n",
       "      <td>Fertilizers by Nutrient</td>\n",
       "      <td>4</td>\n",
       "      <td>Afghanistan</td>\n",
       "      <td>5172</td>\n",
       "      <td>Use per capita</td>\n",
       "      <td>3102</td>\n",
       "      <td>Nutrient nitrogen N (total)</td>\n",
       "      <td>1961</td>\n",
       "      <td>1961</td>\n",
       "      <td>kg/cap</td>\n",
       "      <td>0.11</td>\n",
       "      <td>E</td>\n",
       "      <td>Estimated value</td>\n",
       "      <td>NaN</td>\n",
       "    </tr>\n",
       "    <tr>\n",
       "      <th>4</th>\n",
       "      <td>RFN</td>\n",
       "      <td>Fertilizers by Nutrient</td>\n",
       "      <td>4</td>\n",
       "      <td>Afghanistan</td>\n",
       "      <td>5173</td>\n",
       "      <td>Use per value of agricultural production</td>\n",
       "      <td>3102</td>\n",
       "      <td>Nutrient nitrogen N (total)</td>\n",
       "      <td>1961</td>\n",
       "      <td>1961</td>\n",
       "      <td>g/Int$</td>\n",
       "      <td>0.39</td>\n",
       "      <td>E</td>\n",
       "      <td>Estimated value</td>\n",
       "      <td>NaN</td>\n",
       "    </tr>\n",
       "    <tr>\n",
       "      <th>...</th>\n",
       "      <td>...</td>\n",
       "      <td>...</td>\n",
       "      <td>...</td>\n",
       "      <td>...</td>\n",
       "      <td>...</td>\n",
       "      <td>...</td>\n",
       "      <td>...</td>\n",
       "      <td>...</td>\n",
       "      <td>...</td>\n",
       "      <td>...</td>\n",
       "      <td>...</td>\n",
       "      <td>...</td>\n",
       "      <td>...</td>\n",
       "      <td>...</td>\n",
       "      <td>...</td>\n",
       "    </tr>\n",
       "    <tr>\n",
       "      <th>188508</th>\n",
       "      <td>RFN</td>\n",
       "      <td>Fertilizers by Nutrient</td>\n",
       "      <td>716</td>\n",
       "      <td>Zimbabwe</td>\n",
       "      <td>5910</td>\n",
       "      <td>Export quantity</td>\n",
       "      <td>3104</td>\n",
       "      <td>Nutrient potash K2O (total)</td>\n",
       "      <td>2022</td>\n",
       "      <td>2022</td>\n",
       "      <td>t</td>\n",
       "      <td>297.00</td>\n",
       "      <td>I</td>\n",
       "      <td>Imputed value</td>\n",
       "      <td>NaN</td>\n",
       "    </tr>\n",
       "    <tr>\n",
       "      <th>188509</th>\n",
       "      <td>RFN</td>\n",
       "      <td>Fertilizers by Nutrient</td>\n",
       "      <td>716</td>\n",
       "      <td>Zimbabwe</td>\n",
       "      <td>5157</td>\n",
       "      <td>Agricultural Use</td>\n",
       "      <td>3104</td>\n",
       "      <td>Nutrient potash K2O (total)</td>\n",
       "      <td>2022</td>\n",
       "      <td>2022</td>\n",
       "      <td>t</td>\n",
       "      <td>16700.00</td>\n",
       "      <td>I</td>\n",
       "      <td>Imputed value</td>\n",
       "      <td>NaN</td>\n",
       "    </tr>\n",
       "    <tr>\n",
       "      <th>188510</th>\n",
       "      <td>RFN</td>\n",
       "      <td>Fertilizers by Nutrient</td>\n",
       "      <td>716</td>\n",
       "      <td>Zimbabwe</td>\n",
       "      <td>5159</td>\n",
       "      <td>Use per area of cropland</td>\n",
       "      <td>3104</td>\n",
       "      <td>Nutrient potash K2O (total)</td>\n",
       "      <td>2022</td>\n",
       "      <td>2022</td>\n",
       "      <td>kg/ha</td>\n",
       "      <td>5.26</td>\n",
       "      <td>E</td>\n",
       "      <td>Estimated value</td>\n",
       "      <td>NaN</td>\n",
       "    </tr>\n",
       "    <tr>\n",
       "      <th>188511</th>\n",
       "      <td>RFN</td>\n",
       "      <td>Fertilizers by Nutrient</td>\n",
       "      <td>716</td>\n",
       "      <td>Zimbabwe</td>\n",
       "      <td>5172</td>\n",
       "      <td>Use per capita</td>\n",
       "      <td>3104</td>\n",
       "      <td>Nutrient potash K2O (total)</td>\n",
       "      <td>2022</td>\n",
       "      <td>2022</td>\n",
       "      <td>kg/cap</td>\n",
       "      <td>1.02</td>\n",
       "      <td>E</td>\n",
       "      <td>Estimated value</td>\n",
       "      <td>NaN</td>\n",
       "    </tr>\n",
       "    <tr>\n",
       "      <th>188512</th>\n",
       "      <td>RFN</td>\n",
       "      <td>Fertilizers by Nutrient</td>\n",
       "      <td>716</td>\n",
       "      <td>Zimbabwe</td>\n",
       "      <td>5173</td>\n",
       "      <td>Use per value of agricultural production</td>\n",
       "      <td>3104</td>\n",
       "      <td>Nutrient potash K2O (total)</td>\n",
       "      <td>2022</td>\n",
       "      <td>2022</td>\n",
       "      <td>g/Int$</td>\n",
       "      <td>3.06</td>\n",
       "      <td>E</td>\n",
       "      <td>Estimated value</td>\n",
       "      <td>NaN</td>\n",
       "    </tr>\n",
       "  </tbody>\n",
       "</table>\n",
       "<p>188513 rows × 15 columns</p>\n",
       "</div>"
      ],
      "text/plain": [
       "       Domain Code                   Domain  Area Code (M49)         Area  \\\n",
       "0              RFN  Fertilizers by Nutrient                4  Afghanistan   \n",
       "1              RFN  Fertilizers by Nutrient                4  Afghanistan   \n",
       "2              RFN  Fertilizers by Nutrient                4  Afghanistan   \n",
       "3              RFN  Fertilizers by Nutrient                4  Afghanistan   \n",
       "4              RFN  Fertilizers by Nutrient                4  Afghanistan   \n",
       "...            ...                      ...              ...          ...   \n",
       "188508         RFN  Fertilizers by Nutrient              716     Zimbabwe   \n",
       "188509         RFN  Fertilizers by Nutrient              716     Zimbabwe   \n",
       "188510         RFN  Fertilizers by Nutrient              716     Zimbabwe   \n",
       "188511         RFN  Fertilizers by Nutrient              716     Zimbabwe   \n",
       "188512         RFN  Fertilizers by Nutrient              716     Zimbabwe   \n",
       "\n",
       "        Element Code                                   Element  Item Code  \\\n",
       "0               5610                           Import quantity       3102   \n",
       "1               5157                          Agricultural Use       3102   \n",
       "2               5159                  Use per area of cropland       3102   \n",
       "3               5172                            Use per capita       3102   \n",
       "4               5173  Use per value of agricultural production       3102   \n",
       "...              ...                                       ...        ...   \n",
       "188508          5910                           Export quantity       3104   \n",
       "188509          5157                          Agricultural Use       3104   \n",
       "188510          5159                  Use per area of cropland       3104   \n",
       "188511          5172                            Use per capita       3104   \n",
       "188512          5173  Use per value of agricultural production       3104   \n",
       "\n",
       "                               Item  Year Code  Year    Unit     Value Flag  \\\n",
       "0       Nutrient nitrogen N (total)       1961  1961       t   1000.00    I   \n",
       "1       Nutrient nitrogen N (total)       1961  1961       t   1000.00    E   \n",
       "2       Nutrient nitrogen N (total)       1961  1961   kg/ha      0.13    E   \n",
       "3       Nutrient nitrogen N (total)       1961  1961  kg/cap      0.11    E   \n",
       "4       Nutrient nitrogen N (total)       1961  1961  g/Int$      0.39    E   \n",
       "...                             ...        ...   ...     ...       ...  ...   \n",
       "188508  Nutrient potash K2O (total)       2022  2022       t    297.00    I   \n",
       "188509  Nutrient potash K2O (total)       2022  2022       t  16700.00    I   \n",
       "188510  Nutrient potash K2O (total)       2022  2022   kg/ha      5.26    E   \n",
       "188511  Nutrient potash K2O (total)       2022  2022  kg/cap      1.02    E   \n",
       "188512  Nutrient potash K2O (total)       2022  2022  g/Int$      3.06    E   \n",
       "\n",
       "       Flag Description Note  \n",
       "0         Imputed value  NaN  \n",
       "1       Estimated value  NaN  \n",
       "2       Estimated value  NaN  \n",
       "3       Estimated value  NaN  \n",
       "4       Estimated value  NaN  \n",
       "...                 ...  ...  \n",
       "188508    Imputed value  NaN  \n",
       "188509    Imputed value  NaN  \n",
       "188510  Estimated value  NaN  \n",
       "188511  Estimated value  NaN  \n",
       "188512  Estimated value  NaN  \n",
       "\n",
       "[188513 rows x 15 columns]"
      ]
     },
     "execution_count": 76,
     "metadata": {},
     "output_type": "execute_result"
    }
   ],
   "source": [
    "fertilizer_df"
   ]
  },
  {
   "cell_type": "code",
   "execution_count": 86,
   "metadata": {},
   "outputs": [
    {
     "data": {
      "text/html": [
       "<div>\n",
       "<style scoped>\n",
       "    .dataframe tbody tr th:only-of-type {\n",
       "        vertical-align: middle;\n",
       "    }\n",
       "\n",
       "    .dataframe tbody tr th {\n",
       "        vertical-align: top;\n",
       "    }\n",
       "\n",
       "    .dataframe thead th {\n",
       "        text-align: right;\n",
       "    }\n",
       "</style>\n",
       "<table border=\"1\" class=\"dataframe\">\n",
       "  <thead>\n",
       "    <tr style=\"text-align: right;\">\n",
       "      <th></th>\n",
       "      <th>Area</th>\n",
       "      <th>Year</th>\n",
       "      <th>Population</th>\n",
       "      <th>Food (kcal)</th>\n",
       "      <th>Item</th>\n",
       "      <th>Consumption</th>\n",
       "      <th>Unit</th>\n",
       "    </tr>\n",
       "  </thead>\n",
       "  <tbody>\n",
       "    <tr>\n",
       "      <th>0</th>\n",
       "      <td>Afghanistan</td>\n",
       "      <td>2010</td>\n",
       "      <td>28189.67</td>\n",
       "      <td>22714261.33</td>\n",
       "      <td>Nutrient nitrogen N (total)</td>\n",
       "      <td>12929.01</td>\n",
       "      <td>t</td>\n",
       "    </tr>\n",
       "    <tr>\n",
       "      <th>1</th>\n",
       "      <td>Afghanistan</td>\n",
       "      <td>2010</td>\n",
       "      <td>28189.67</td>\n",
       "      <td>22714261.33</td>\n",
       "      <td>Nutrient phosphate P2O5 (total)</td>\n",
       "      <td>925.85</td>\n",
       "      <td>t</td>\n",
       "    </tr>\n",
       "    <tr>\n",
       "      <th>2</th>\n",
       "      <td>Afghanistan</td>\n",
       "      <td>2010</td>\n",
       "      <td>28189.67</td>\n",
       "      <td>22714261.33</td>\n",
       "      <td>Nutrient potash K2O (total)</td>\n",
       "      <td>0.00</td>\n",
       "      <td>t</td>\n",
       "    </tr>\n",
       "    <tr>\n",
       "      <th>12</th>\n",
       "      <td>Afghanistan</td>\n",
       "      <td>2011</td>\n",
       "      <td>29249.16</td>\n",
       "      <td>23264732.28</td>\n",
       "      <td>Nutrient nitrogen N (total)</td>\n",
       "      <td>22970.63</td>\n",
       "      <td>t</td>\n",
       "    </tr>\n",
       "    <tr>\n",
       "      <th>13</th>\n",
       "      <td>Afghanistan</td>\n",
       "      <td>2011</td>\n",
       "      <td>29249.16</td>\n",
       "      <td>23264732.28</td>\n",
       "      <td>Nutrient phosphate P2O5 (total)</td>\n",
       "      <td>6845.57</td>\n",
       "      <td>t</td>\n",
       "    </tr>\n",
       "    <tr>\n",
       "      <th>...</th>\n",
       "      <td>...</td>\n",
       "      <td>...</td>\n",
       "      <td>...</td>\n",
       "      <td>...</td>\n",
       "      <td>...</td>\n",
       "      <td>...</td>\n",
       "      <td>...</td>\n",
       "    </tr>\n",
       "    <tr>\n",
       "      <th>27825</th>\n",
       "      <td>Zimbabwe</td>\n",
       "      <td>2021</td>\n",
       "      <td>15993.52</td>\n",
       "      <td>12016223.71</td>\n",
       "      <td>Nutrient phosphate P2O5 (total)</td>\n",
       "      <td>47900.00</td>\n",
       "      <td>t</td>\n",
       "    </tr>\n",
       "    <tr>\n",
       "      <th>27826</th>\n",
       "      <td>Zimbabwe</td>\n",
       "      <td>2021</td>\n",
       "      <td>15993.52</td>\n",
       "      <td>12016223.71</td>\n",
       "      <td>Nutrient potash K2O (total)</td>\n",
       "      <td>16700.00</td>\n",
       "      <td>t</td>\n",
       "    </tr>\n",
       "    <tr>\n",
       "      <th>27836</th>\n",
       "      <td>Zimbabwe</td>\n",
       "      <td>2022</td>\n",
       "      <td>16320.54</td>\n",
       "      <td>12155291.61</td>\n",
       "      <td>Nutrient nitrogen N (total)</td>\n",
       "      <td>39300.00</td>\n",
       "      <td>t</td>\n",
       "    </tr>\n",
       "    <tr>\n",
       "      <th>27837</th>\n",
       "      <td>Zimbabwe</td>\n",
       "      <td>2022</td>\n",
       "      <td>16320.54</td>\n",
       "      <td>12155291.61</td>\n",
       "      <td>Nutrient phosphate P2O5 (total)</td>\n",
       "      <td>47900.00</td>\n",
       "      <td>t</td>\n",
       "    </tr>\n",
       "    <tr>\n",
       "      <th>27838</th>\n",
       "      <td>Zimbabwe</td>\n",
       "      <td>2022</td>\n",
       "      <td>16320.54</td>\n",
       "      <td>12155291.61</td>\n",
       "      <td>Nutrient potash K2O (total)</td>\n",
       "      <td>16700.00</td>\n",
       "      <td>t</td>\n",
       "    </tr>\n",
       "  </tbody>\n",
       "</table>\n",
       "<p>6962 rows × 7 columns</p>\n",
       "</div>"
      ],
      "text/plain": [
       "              Area  Year  Population  Food (kcal)  \\\n",
       "0      Afghanistan  2010    28189.67  22714261.33   \n",
       "1      Afghanistan  2010    28189.67  22714261.33   \n",
       "2      Afghanistan  2010    28189.67  22714261.33   \n",
       "12     Afghanistan  2011    29249.16  23264732.28   \n",
       "13     Afghanistan  2011    29249.16  23264732.28   \n",
       "...            ...   ...         ...          ...   \n",
       "27825     Zimbabwe  2021    15993.52  12016223.71   \n",
       "27826     Zimbabwe  2021    15993.52  12016223.71   \n",
       "27836     Zimbabwe  2022    16320.54  12155291.61   \n",
       "27837     Zimbabwe  2022    16320.54  12155291.61   \n",
       "27838     Zimbabwe  2022    16320.54  12155291.61   \n",
       "\n",
       "                                  Item  Consumption Unit  \n",
       "0          Nutrient nitrogen N (total)     12929.01    t  \n",
       "1      Nutrient phosphate P2O5 (total)       925.85    t  \n",
       "2          Nutrient potash K2O (total)         0.00    t  \n",
       "12         Nutrient nitrogen N (total)     22970.63    t  \n",
       "13     Nutrient phosphate P2O5 (total)      6845.57    t  \n",
       "...                                ...          ...  ...  \n",
       "27825  Nutrient phosphate P2O5 (total)     47900.00    t  \n",
       "27826      Nutrient potash K2O (total)     16700.00    t  \n",
       "27836      Nutrient nitrogen N (total)     39300.00    t  \n",
       "27837  Nutrient phosphate P2O5 (total)     47900.00    t  \n",
       "27838      Nutrient potash K2O (total)     16700.00    t  \n",
       "\n",
       "[6962 rows x 7 columns]"
      ]
     },
     "execution_count": 86,
     "metadata": {},
     "output_type": "execute_result"
    }
   ],
   "source": [
    "data=food_balances_df[food_balances_df['Element']=='Total Population - Both sexes'][['Area','Year','Value']].rename({'Value':'Population'}, axis=1)\n",
    "data=data.merge(food_balances_df[food_balances_df['Element']=='Food supply (kcal)'][['Area','Year','Value']], on=['Area', 'Year']).rename({'Value':'Food (kcal)'}, axis=1)\n",
    "#data['Population']*=1000\n",
    "#data['Food (kcal)']*=1e6\n",
    "data=data.merge(fertilizer_df[fertilizer_df['Element']=='Agricultural Use'][['Area','Year','Item','Value','Unit']], on=['Area', 'Year']\n",
    "                ).rename({'Value':'Consumption'}, axis=1\n",
    "                ).drop_duplicates(['Area', 'Year', 'Item', 'Unit'])\n",
    "data"
   ]
  },
  {
   "cell_type": "code",
   "execution_count": 94,
   "metadata": {},
   "outputs": [
    {
     "data": {
      "text/html": [
       "<div>\n",
       "<style scoped>\n",
       "    .dataframe tbody tr th:only-of-type {\n",
       "        vertical-align: middle;\n",
       "    }\n",
       "\n",
       "    .dataframe tbody tr th {\n",
       "        vertical-align: top;\n",
       "    }\n",
       "\n",
       "    .dataframe thead th {\n",
       "        text-align: right;\n",
       "    }\n",
       "</style>\n",
       "<table border=\"1\" class=\"dataframe\">\n",
       "  <thead>\n",
       "    <tr style=\"text-align: right;\">\n",
       "      <th></th>\n",
       "      <th>Population</th>\n",
       "      <th>Food (kcal)</th>\n",
       "      <th>Consumption</th>\n",
       "    </tr>\n",
       "    <tr>\n",
       "      <th>Year</th>\n",
       "      <th></th>\n",
       "      <th></th>\n",
       "      <th></th>\n",
       "    </tr>\n",
       "  </thead>\n",
       "  <tbody>\n",
       "    <tr>\n",
       "      <th>2010</th>\n",
       "      <td>8284483.24</td>\n",
       "      <td>8.673927e+09</td>\n",
       "      <td>1.309007e+08</td>\n",
       "    </tr>\n",
       "    <tr>\n",
       "      <th>2011</th>\n",
       "      <td>8356507.95</td>\n",
       "      <td>8.829741e+09</td>\n",
       "      <td>1.351900e+08</td>\n",
       "    </tr>\n",
       "    <tr>\n",
       "      <th>2012</th>\n",
       "      <td>8511097.56</td>\n",
       "      <td>9.009878e+09</td>\n",
       "      <td>1.358997e+08</td>\n",
       "    </tr>\n",
       "    <tr>\n",
       "      <th>2013</th>\n",
       "      <td>8608549.28</td>\n",
       "      <td>9.126874e+09</td>\n",
       "      <td>1.378133e+08</td>\n",
       "    </tr>\n",
       "    <tr>\n",
       "      <th>2014</th>\n",
       "      <td>8705398.95</td>\n",
       "      <td>9.363885e+09</td>\n",
       "      <td>1.391016e+08</td>\n",
       "    </tr>\n",
       "    <tr>\n",
       "      <th>2015</th>\n",
       "      <td>8789994.80</td>\n",
       "      <td>9.468662e+09</td>\n",
       "      <td>1.375859e+08</td>\n",
       "    </tr>\n",
       "    <tr>\n",
       "      <th>2016</th>\n",
       "      <td>8898354.01</td>\n",
       "      <td>9.597205e+09</td>\n",
       "      <td>1.382556e+08</td>\n",
       "    </tr>\n",
       "    <tr>\n",
       "      <th>2017</th>\n",
       "      <td>8993065.44</td>\n",
       "      <td>9.780238e+09</td>\n",
       "      <td>1.396247e+08</td>\n",
       "    </tr>\n",
       "    <tr>\n",
       "      <th>2018</th>\n",
       "      <td>9084628.89</td>\n",
       "      <td>9.912904e+09</td>\n",
       "      <td>1.370849e+08</td>\n",
       "    </tr>\n",
       "    <tr>\n",
       "      <th>2019</th>\n",
       "      <td>9160141.12</td>\n",
       "      <td>1.005154e+10</td>\n",
       "      <td>1.351739e+08</td>\n",
       "    </tr>\n",
       "    <tr>\n",
       "      <th>2020</th>\n",
       "      <td>9238746.94</td>\n",
       "      <td>1.017553e+10</td>\n",
       "      <td>1.404922e+08</td>\n",
       "    </tr>\n",
       "    <tr>\n",
       "      <th>2021</th>\n",
       "      <td>9304416.21</td>\n",
       "      <td>1.033469e+10</td>\n",
       "      <td>1.382849e+08</td>\n",
       "    </tr>\n",
       "    <tr>\n",
       "      <th>2022</th>\n",
       "      <td>9343454.61</td>\n",
       "      <td>1.042902e+10</td>\n",
       "      <td>1.326019e+08</td>\n",
       "    </tr>\n",
       "  </tbody>\n",
       "</table>\n",
       "</div>"
      ],
      "text/plain": [
       "      Population   Food (kcal)   Consumption\n",
       "Year                                        \n",
       "2010  8284483.24  8.673927e+09  1.309007e+08\n",
       "2011  8356507.95  8.829741e+09  1.351900e+08\n",
       "2012  8511097.56  9.009878e+09  1.358997e+08\n",
       "2013  8608549.28  9.126874e+09  1.378133e+08\n",
       "2014  8705398.95  9.363885e+09  1.391016e+08\n",
       "2015  8789994.80  9.468662e+09  1.375859e+08\n",
       "2016  8898354.01  9.597205e+09  1.382556e+08\n",
       "2017  8993065.44  9.780238e+09  1.396247e+08\n",
       "2018  9084628.89  9.912904e+09  1.370849e+08\n",
       "2019  9160141.12  1.005154e+10  1.351739e+08\n",
       "2020  9238746.94  1.017553e+10  1.404922e+08\n",
       "2021  9304416.21  1.033469e+10  1.382849e+08\n",
       "2022  9343454.61  1.042902e+10  1.326019e+08"
      ]
     },
     "execution_count": 94,
     "metadata": {},
     "output_type": "execute_result"
    }
   ],
   "source": [
    "data[(data['Item']=='Nutrient nitrogen N (total)') & (data['Unit']=='t')].groupby('Year').aggregate({'Population':'sum', 'Food (kcal)':'sum','Consumption':'sum'})"
   ]
  },
  {
   "cell_type": "code",
   "execution_count": 98,
   "metadata": {},
   "outputs": [
    {
     "data": {
      "text/plain": [
       "array(['Afghanistan', 'Albania', 'Algeria', 'Angola',\n",
       "       'Antigua and Barbuda', 'Argentina', 'Armenia', 'Australia',\n",
       "       'Austria', 'Azerbaijan', 'Bahamas', 'Bahrain', 'Bangladesh',\n",
       "       'Barbados', 'Belarus', 'Belgium', 'Belize', 'Benin', 'Bhutan',\n",
       "       'Bolivia (Plurinational State of)', 'Bosnia and Herzegovina',\n",
       "       'Botswana', 'Brazil', 'Bulgaria', 'Burkina Faso', 'Burundi',\n",
       "       'Cabo Verde', 'Cambodia', 'Cameroon', 'Canada',\n",
       "       'Central African Republic', 'Chad', 'Chile', 'China',\n",
       "       'China, Hong Kong SAR', 'China, mainland',\n",
       "       'China, Taiwan Province of', 'Colombia', 'Comoros', 'Congo',\n",
       "       'Costa Rica', \"Côte d'Ivoire\", 'Croatia', 'Cuba', 'Cyprus',\n",
       "       'Czechia', \"Democratic People's Republic of Korea\",\n",
       "       'Democratic Republic of the Congo', 'Denmark', 'Djibouti',\n",
       "       'Dominica', 'Dominican Republic', 'Ecuador', 'Egypt',\n",
       "       'El Salvador', 'Estonia', 'Eswatini', 'Ethiopia', 'Fiji',\n",
       "       'Finland', 'France', 'French Polynesia', 'Gabon', 'Gambia',\n",
       "       'Georgia', 'Germany', 'Ghana', 'Greece', 'Grenada', 'Guatemala',\n",
       "       'Guinea', 'Guinea-Bissau', 'Guyana', 'Haiti', 'Honduras',\n",
       "       'Hungary', 'Iceland', 'India', 'Indonesia',\n",
       "       'Iran (Islamic Republic of)', 'Iraq', 'Ireland', 'Israel', 'Italy',\n",
       "       'Jamaica', 'Japan', 'Jordan', 'Kazakhstan', 'Kenya', 'Kiribati',\n",
       "       'Kuwait', 'Kyrgyzstan', \"Lao People's Democratic Republic\",\n",
       "       'Latvia', 'Lebanon', 'Lesotho', 'Liberia', 'Libya', 'Lithuania',\n",
       "       'Luxembourg', 'Madagascar', 'Malawi', 'Malaysia', 'Maldives',\n",
       "       'Mali', 'Malta', 'Mauritania', 'Mauritius', 'Mexico',\n",
       "       'Micronesia (Federated States of)', 'Mongolia', 'Montenegro',\n",
       "       'Morocco', 'Mozambique', 'Myanmar', 'Namibia', 'Nauru', 'Nepal',\n",
       "       'Netherlands (Kingdom of the)', 'New Caledonia', 'New Zealand',\n",
       "       'Nicaragua', 'Niger', 'Nigeria', 'North Macedonia', 'Norway',\n",
       "       'Oman', 'Pakistan', 'Panama', 'Papua New Guinea', 'Paraguay',\n",
       "       'Peru', 'Philippines', 'Poland', 'Portugal', 'Qatar',\n",
       "       'Republic of Korea', 'Republic of Moldova', 'Romania',\n",
       "       'Russian Federation', 'Rwanda', 'Saint Kitts and Nevis',\n",
       "       'Saint Lucia', 'Saint Vincent and the Grenadines', 'Samoa',\n",
       "       'Sao Tome and Principe', 'Saudi Arabia', 'Senegal', 'Serbia',\n",
       "       'Seychelles', 'Sierra Leone', 'Slovakia', 'Slovenia',\n",
       "       'Solomon Islands', 'Somalia', 'South Africa', 'South Sudan',\n",
       "       'Spain', 'Sri Lanka', 'Sudan', 'Suriname', 'Sweden', 'Switzerland',\n",
       "       'Syrian Arab Republic', 'Tajikistan', 'Thailand', 'Timor-Leste',\n",
       "       'Togo', 'Tonga', 'Trinidad and Tobago', 'Tunisia', 'Türkiye',\n",
       "       'Turkmenistan', 'Tuvalu', 'Uganda', 'Ukraine',\n",
       "       'United Arab Emirates',\n",
       "       'United Kingdom of Great Britain and Northern Ireland',\n",
       "       'United Republic of Tanzania', 'United States of America',\n",
       "       'Uruguay', 'Uzbekistan', 'Vanuatu',\n",
       "       'Venezuela (Bolivarian Republic of)', 'Viet Nam', 'Yemen',\n",
       "       'Zambia', 'Zimbabwe'], dtype=object)"
      ]
     },
     "execution_count": 98,
     "metadata": {},
     "output_type": "execute_result"
    }
   ],
   "source": [
    "data.Area.unique()"
   ]
  },
  {
   "cell_type": "code",
   "execution_count": 103,
   "metadata": {},
   "outputs": [
    {
     "data": {
      "text/html": [
       "<div>\n",
       "<style scoped>\n",
       "    .dataframe tbody tr th:only-of-type {\n",
       "        vertical-align: middle;\n",
       "    }\n",
       "\n",
       "    .dataframe tbody tr th {\n",
       "        vertical-align: top;\n",
       "    }\n",
       "\n",
       "    .dataframe thead th {\n",
       "        text-align: right;\n",
       "    }\n",
       "</style>\n",
       "<table border=\"1\" class=\"dataframe\">\n",
       "  <thead>\n",
       "    <tr style=\"text-align: right;\">\n",
       "      <th></th>\n",
       "      <th>Area</th>\n",
       "      <th>Year</th>\n",
       "      <th>Population</th>\n",
       "      <th>Food (kcal)</th>\n",
       "      <th>Item</th>\n",
       "      <th>Consumption</th>\n",
       "      <th>Unit</th>\n",
       "    </tr>\n",
       "  </thead>\n",
       "  <tbody>\n",
       "    <tr>\n",
       "      <th>4800</th>\n",
       "      <td>China</td>\n",
       "      <td>2010</td>\n",
       "      <td>1.378964</td>\n",
       "      <td>1.534057e+09</td>\n",
       "      <td>Nutrient nitrogen N (total)</td>\n",
       "      <td>29703808.82</td>\n",
       "      <td>t</td>\n",
       "    </tr>\n",
       "    <tr>\n",
       "      <th>4812</th>\n",
       "      <td>China</td>\n",
       "      <td>2011</td>\n",
       "      <td>1.387985</td>\n",
       "      <td>1.566960e+09</td>\n",
       "      <td>Nutrient nitrogen N (total)</td>\n",
       "      <td>30296637.10</td>\n",
       "      <td>t</td>\n",
       "    </tr>\n",
       "    <tr>\n",
       "      <th>4824</th>\n",
       "      <td>China</td>\n",
       "      <td>2012</td>\n",
       "      <td>1.397612</td>\n",
       "      <td>1.584936e+09</td>\n",
       "      <td>Nutrient nitrogen N (total)</td>\n",
       "      <td>30799794.90</td>\n",
       "      <td>t</td>\n",
       "    </tr>\n",
       "    <tr>\n",
       "      <th>4836</th>\n",
       "      <td>China</td>\n",
       "      <td>2013</td>\n",
       "      <td>1.407321</td>\n",
       "      <td>1.594302e+09</td>\n",
       "      <td>Nutrient nitrogen N (total)</td>\n",
       "      <td>30962774.36</td>\n",
       "      <td>t</td>\n",
       "    </tr>\n",
       "    <tr>\n",
       "      <th>4848</th>\n",
       "      <td>China</td>\n",
       "      <td>2014</td>\n",
       "      <td>1.416569</td>\n",
       "      <td>1.655250e+09</td>\n",
       "      <td>Nutrient nitrogen N (total)</td>\n",
       "      <td>31140359.25</td>\n",
       "      <td>t</td>\n",
       "    </tr>\n",
       "    <tr>\n",
       "      <th>4860</th>\n",
       "      <td>China</td>\n",
       "      <td>2015</td>\n",
       "      <td>1.425243</td>\n",
       "      <td>1.682975e+09</td>\n",
       "      <td>Nutrient nitrogen N (total)</td>\n",
       "      <td>30949245.45</td>\n",
       "      <td>t</td>\n",
       "    </tr>\n",
       "    <tr>\n",
       "      <th>4872</th>\n",
       "      <td>China</td>\n",
       "      <td>2016</td>\n",
       "      <td>1.433547</td>\n",
       "      <td>1.685847e+09</td>\n",
       "      <td>Nutrient nitrogen N (total)</td>\n",
       "      <td>30543526.58</td>\n",
       "      <td>t</td>\n",
       "    </tr>\n",
       "    <tr>\n",
       "      <th>4884</th>\n",
       "      <td>China</td>\n",
       "      <td>2017</td>\n",
       "      <td>1.442041</td>\n",
       "      <td>1.713891e+09</td>\n",
       "      <td>Nutrient nitrogen N (total)</td>\n",
       "      <td>29692008.13</td>\n",
       "      <td>t</td>\n",
       "    </tr>\n",
       "    <tr>\n",
       "      <th>4896</th>\n",
       "      <td>China</td>\n",
       "      <td>2018</td>\n",
       "      <td>1.448928</td>\n",
       "      <td>1.731130e+09</td>\n",
       "      <td>Nutrient nitrogen N (total)</td>\n",
       "      <td>28285980.63</td>\n",
       "      <td>t</td>\n",
       "    </tr>\n",
       "    <tr>\n",
       "      <th>4908</th>\n",
       "      <td>China</td>\n",
       "      <td>2019</td>\n",
       "      <td>1.453802</td>\n",
       "      <td>1.751495e+09</td>\n",
       "      <td>Nutrient nitrogen N (total)</td>\n",
       "      <td>26873496.35</td>\n",
       "      <td>t</td>\n",
       "    </tr>\n",
       "    <tr>\n",
       "      <th>4920</th>\n",
       "      <td>China</td>\n",
       "      <td>2020</td>\n",
       "      <td>1.456928</td>\n",
       "      <td>1.764723e+09</td>\n",
       "      <td>Nutrient nitrogen N (total)</td>\n",
       "      <td>25885073.37</td>\n",
       "      <td>t</td>\n",
       "    </tr>\n",
       "    <tr>\n",
       "      <th>4932</th>\n",
       "      <td>China</td>\n",
       "      <td>2021</td>\n",
       "      <td>1.457935</td>\n",
       "      <td>1.806664e+09</td>\n",
       "      <td>Nutrient nitrogen N (total)</td>\n",
       "      <td>25229047.25</td>\n",
       "      <td>t</td>\n",
       "    </tr>\n",
       "    <tr>\n",
       "      <th>4944</th>\n",
       "      <td>China</td>\n",
       "      <td>2022</td>\n",
       "      <td>1.457965</td>\n",
       "      <td>1.831406e+09</td>\n",
       "      <td>Nutrient nitrogen N (total)</td>\n",
       "      <td>24562242.42</td>\n",
       "      <td>t</td>\n",
       "    </tr>\n",
       "    <tr>\n",
       "      <th>4956</th>\n",
       "      <td>China, Hong Kong SAR</td>\n",
       "      <td>2010</td>\n",
       "      <td>0.007132</td>\n",
       "      <td>8.106015e+06</td>\n",
       "      <td>Nutrient nitrogen N (total)</td>\n",
       "      <td>937.67</td>\n",
       "      <td>t</td>\n",
       "    </tr>\n",
       "    <tr>\n",
       "      <th>4968</th>\n",
       "      <td>China, Hong Kong SAR</td>\n",
       "      <td>2011</td>\n",
       "      <td>0.007175</td>\n",
       "      <td>8.199345e+06</td>\n",
       "      <td>Nutrient nitrogen N (total)</td>\n",
       "      <td>957.06</td>\n",
       "      <td>t</td>\n",
       "    </tr>\n",
       "    <tr>\n",
       "      <th>4980</th>\n",
       "      <td>China, Hong Kong SAR</td>\n",
       "      <td>2012</td>\n",
       "      <td>0.007234</td>\n",
       "      <td>8.146161e+06</td>\n",
       "      <td>Nutrient nitrogen N (total)</td>\n",
       "      <td>885.72</td>\n",
       "      <td>t</td>\n",
       "    </tr>\n",
       "    <tr>\n",
       "      <th>4992</th>\n",
       "      <td>China, Hong Kong SAR</td>\n",
       "      <td>2013</td>\n",
       "      <td>0.007297</td>\n",
       "      <td>8.194786e+06</td>\n",
       "      <td>Nutrient nitrogen N (total)</td>\n",
       "      <td>890.03</td>\n",
       "      <td>t</td>\n",
       "    </tr>\n",
       "    <tr>\n",
       "      <th>5004</th>\n",
       "      <td>China, Hong Kong SAR</td>\n",
       "      <td>2014</td>\n",
       "      <td>0.007352</td>\n",
       "      <td>8.338944e+06</td>\n",
       "      <td>Nutrient nitrogen N (total)</td>\n",
       "      <td>895.69</td>\n",
       "      <td>t</td>\n",
       "    </tr>\n",
       "    <tr>\n",
       "      <th>5016</th>\n",
       "      <td>China, Hong Kong SAR</td>\n",
       "      <td>2015</td>\n",
       "      <td>0.007400</td>\n",
       "      <td>8.245749e+06</td>\n",
       "      <td>Nutrient nitrogen N (total)</td>\n",
       "      <td>889.04</td>\n",
       "      <td>t</td>\n",
       "    </tr>\n",
       "    <tr>\n",
       "      <th>5028</th>\n",
       "      <td>China, Hong Kong SAR</td>\n",
       "      <td>2016</td>\n",
       "      <td>0.007436</td>\n",
       "      <td>8.397215e+06</td>\n",
       "      <td>Nutrient nitrogen N (total)</td>\n",
       "      <td>858.80</td>\n",
       "      <td>t</td>\n",
       "    </tr>\n",
       "    <tr>\n",
       "      <th>5040</th>\n",
       "      <td>China, Hong Kong SAR</td>\n",
       "      <td>2017</td>\n",
       "      <td>0.007462</td>\n",
       "      <td>8.578146e+06</td>\n",
       "      <td>Nutrient nitrogen N (total)</td>\n",
       "      <td>857.06</td>\n",
       "      <td>t</td>\n",
       "    </tr>\n",
       "    <tr>\n",
       "      <th>5052</th>\n",
       "      <td>China, Hong Kong SAR</td>\n",
       "      <td>2018</td>\n",
       "      <td>0.007482</td>\n",
       "      <td>8.678023e+06</td>\n",
       "      <td>Nutrient nitrogen N (total)</td>\n",
       "      <td>799.40</td>\n",
       "      <td>t</td>\n",
       "    </tr>\n",
       "    <tr>\n",
       "      <th>5064</th>\n",
       "      <td>China, Hong Kong SAR</td>\n",
       "      <td>2019</td>\n",
       "      <td>0.007496</td>\n",
       "      <td>8.730493e+06</td>\n",
       "      <td>Nutrient nitrogen N (total)</td>\n",
       "      <td>686.40</td>\n",
       "      <td>t</td>\n",
       "    </tr>\n",
       "    <tr>\n",
       "      <th>5076</th>\n",
       "      <td>China, Hong Kong SAR</td>\n",
       "      <td>2020</td>\n",
       "      <td>0.007501</td>\n",
       "      <td>8.484105e+06</td>\n",
       "      <td>Nutrient nitrogen N (total)</td>\n",
       "      <td>493.26</td>\n",
       "      <td>t</td>\n",
       "    </tr>\n",
       "    <tr>\n",
       "      <th>5088</th>\n",
       "      <td>China, Hong Kong SAR</td>\n",
       "      <td>2021</td>\n",
       "      <td>0.007495</td>\n",
       "      <td>8.323561e+06</td>\n",
       "      <td>Nutrient nitrogen N (total)</td>\n",
       "      <td>475.92</td>\n",
       "      <td>t</td>\n",
       "    </tr>\n",
       "    <tr>\n",
       "      <th>5100</th>\n",
       "      <td>China, Hong Kong SAR</td>\n",
       "      <td>2022</td>\n",
       "      <td>0.007489</td>\n",
       "      <td>8.188391e+06</td>\n",
       "      <td>Nutrient nitrogen N (total)</td>\n",
       "      <td>475.92</td>\n",
       "      <td>t</td>\n",
       "    </tr>\n",
       "    <tr>\n",
       "      <th>5112</th>\n",
       "      <td>China, mainland</td>\n",
       "      <td>2010</td>\n",
       "      <td>1.348191</td>\n",
       "      <td>1.500401e+09</td>\n",
       "      <td>Nutrient nitrogen N (total)</td>\n",
       "      <td>29531824.95</td>\n",
       "      <td>t</td>\n",
       "    </tr>\n",
       "    <tr>\n",
       "      <th>5124</th>\n",
       "      <td>China, mainland</td>\n",
       "      <td>2011</td>\n",
       "      <td>1.357095</td>\n",
       "      <td>1.533331e+09</td>\n",
       "      <td>Nutrient nitrogen N (total)</td>\n",
       "      <td>30131119.67</td>\n",
       "      <td>t</td>\n",
       "    </tr>\n",
       "    <tr>\n",
       "      <th>5136</th>\n",
       "      <td>China, mainland</td>\n",
       "      <td>2012</td>\n",
       "      <td>1.366561</td>\n",
       "      <td>1.551342e+09</td>\n",
       "      <td>Nutrient nitrogen N (total)</td>\n",
       "      <td>30632100.21</td>\n",
       "      <td>t</td>\n",
       "    </tr>\n",
       "    <tr>\n",
       "      <th>5148</th>\n",
       "      <td>China, mainland</td>\n",
       "      <td>2013</td>\n",
       "      <td>1.376100</td>\n",
       "      <td>1.560434e+09</td>\n",
       "      <td>Nutrient nitrogen N (total)</td>\n",
       "      <td>30800704.19</td>\n",
       "      <td>t</td>\n",
       "    </tr>\n",
       "    <tr>\n",
       "      <th>5160</th>\n",
       "      <td>China, mainland</td>\n",
       "      <td>2014</td>\n",
       "      <td>1.385190</td>\n",
       "      <td>1.621068e+09</td>\n",
       "      <td>Nutrient nitrogen N (total)</td>\n",
       "      <td>30981666.67</td>\n",
       "      <td>t</td>\n",
       "    </tr>\n",
       "    <tr>\n",
       "      <th>5172</th>\n",
       "      <td>China, mainland</td>\n",
       "      <td>2015</td>\n",
       "      <td>1.393715</td>\n",
       "      <td>1.648776e+09</td>\n",
       "      <td>Nutrient nitrogen N (total)</td>\n",
       "      <td>30795477.00</td>\n",
       "      <td>t</td>\n",
       "    </tr>\n",
       "    <tr>\n",
       "      <th>5184</th>\n",
       "      <td>China, mainland</td>\n",
       "      <td>2016</td>\n",
       "      <td>1.401890</td>\n",
       "      <td>1.651483e+09</td>\n",
       "      <td>Nutrient nitrogen N (total)</td>\n",
       "      <td>30387931.00</td>\n",
       "      <td>t</td>\n",
       "    </tr>\n",
       "    <tr>\n",
       "      <th>5196</th>\n",
       "      <td>China, mainland</td>\n",
       "      <td>2017</td>\n",
       "      <td>1.410276</td>\n",
       "      <td>1.679289e+09</td>\n",
       "      <td>Nutrient nitrogen N (total)</td>\n",
       "      <td>29544991.00</td>\n",
       "      <td>t</td>\n",
       "    </tr>\n",
       "    <tr>\n",
       "      <th>5208</th>\n",
       "      <td>China, mainland</td>\n",
       "      <td>2018</td>\n",
       "      <td>1.417069</td>\n",
       "      <td>1.696131e+09</td>\n",
       "      <td>Nutrient nitrogen N (total)</td>\n",
       "      <td>28141472.00</td>\n",
       "      <td>t</td>\n",
       "    </tr>\n",
       "    <tr>\n",
       "      <th>5220</th>\n",
       "      <td>China, mainland</td>\n",
       "      <td>2019</td>\n",
       "      <td>1.421864</td>\n",
       "      <td>1.716276e+09</td>\n",
       "      <td>Nutrient nitrogen N (total)</td>\n",
       "      <td>26737666.67</td>\n",
       "      <td>t</td>\n",
       "    </tr>\n",
       "    <tr>\n",
       "      <th>5232</th>\n",
       "      <td>China, mainland</td>\n",
       "      <td>2020</td>\n",
       "      <td>1.424930</td>\n",
       "      <td>1.729845e+09</td>\n",
       "      <td>Nutrient nitrogen N (total)</td>\n",
       "      <td>25741925.33</td>\n",
       "      <td>t</td>\n",
       "    </tr>\n",
       "    <tr>\n",
       "      <th>5244</th>\n",
       "      <td>China, mainland</td>\n",
       "      <td>2021</td>\n",
       "      <td>1.425893</td>\n",
       "      <td>1.772204e+09</td>\n",
       "      <td>Nutrient nitrogen N (total)</td>\n",
       "      <td>25099666.67</td>\n",
       "      <td>t</td>\n",
       "    </tr>\n",
       "    <tr>\n",
       "      <th>5256</th>\n",
       "      <td>China, mainland</td>\n",
       "      <td>2022</td>\n",
       "      <td>1.425887</td>\n",
       "      <td>1.796687e+09</td>\n",
       "      <td>Nutrient nitrogen N (total)</td>\n",
       "      <td>24437417.67</td>\n",
       "      <td>t</td>\n",
       "    </tr>\n",
       "    <tr>\n",
       "      <th>5268</th>\n",
       "      <td>China, Taiwan Province of</td>\n",
       "      <td>2010</td>\n",
       "      <td>0.023083</td>\n",
       "      <td>2.494853e+07</td>\n",
       "      <td>Nutrient nitrogen N (total)</td>\n",
       "      <td>171046.20</td>\n",
       "      <td>t</td>\n",
       "    </tr>\n",
       "    <tr>\n",
       "      <th>5280</th>\n",
       "      <td>China, Taiwan Province of</td>\n",
       "      <td>2011</td>\n",
       "      <td>0.023143</td>\n",
       "      <td>2.478949e+07</td>\n",
       "      <td>Nutrient nitrogen N (total)</td>\n",
       "      <td>164560.37</td>\n",
       "      <td>t</td>\n",
       "    </tr>\n",
       "    <tr>\n",
       "      <th>5292</th>\n",
       "      <td>China, Taiwan Province of</td>\n",
       "      <td>2012</td>\n",
       "      <td>0.023234</td>\n",
       "      <td>2.479599e+07</td>\n",
       "      <td>Nutrient nitrogen N (total)</td>\n",
       "      <td>166808.97</td>\n",
       "      <td>t</td>\n",
       "    </tr>\n",
       "    <tr>\n",
       "      <th>5304</th>\n",
       "      <td>China, Taiwan Province of</td>\n",
       "      <td>2013</td>\n",
       "      <td>0.023330</td>\n",
       "      <td>2.500096e+07</td>\n",
       "      <td>Nutrient nitrogen N (total)</td>\n",
       "      <td>161180.14</td>\n",
       "      <td>t</td>\n",
       "    </tr>\n",
       "    <tr>\n",
       "      <th>5316</th>\n",
       "      <td>China, Taiwan Province of</td>\n",
       "      <td>2014</td>\n",
       "      <td>0.023423</td>\n",
       "      <td>2.513436e+07</td>\n",
       "      <td>Nutrient nitrogen N (total)</td>\n",
       "      <td>157796.89</td>\n",
       "      <td>t</td>\n",
       "    </tr>\n",
       "    <tr>\n",
       "      <th>5328</th>\n",
       "      <td>China, Taiwan Province of</td>\n",
       "      <td>2015</td>\n",
       "      <td>0.023512</td>\n",
       "      <td>2.523468e+07</td>\n",
       "      <td>Nutrient nitrogen N (total)</td>\n",
       "      <td>152879.41</td>\n",
       "      <td>t</td>\n",
       "    </tr>\n",
       "    <tr>\n",
       "      <th>5340</th>\n",
       "      <td>China, Taiwan Province of</td>\n",
       "      <td>2016</td>\n",
       "      <td>0.023594</td>\n",
       "      <td>2.523874e+07</td>\n",
       "      <td>Nutrient nitrogen N (total)</td>\n",
       "      <td>154736.78</td>\n",
       "      <td>t</td>\n",
       "    </tr>\n",
       "    <tr>\n",
       "      <th>5352</th>\n",
       "      <td>China, Taiwan Province of</td>\n",
       "      <td>2017</td>\n",
       "      <td>0.023665</td>\n",
       "      <td>2.527804e+07</td>\n",
       "      <td>Nutrient nitrogen N (total)</td>\n",
       "      <td>146160.07</td>\n",
       "      <td>t</td>\n",
       "    </tr>\n",
       "    <tr>\n",
       "      <th>5364</th>\n",
       "      <td>China, Taiwan Province of</td>\n",
       "      <td>2018</td>\n",
       "      <td>0.023726</td>\n",
       "      <td>2.555790e+07</td>\n",
       "      <td>Nutrient nitrogen N (total)</td>\n",
       "      <td>143709.23</td>\n",
       "      <td>t</td>\n",
       "    </tr>\n",
       "    <tr>\n",
       "      <th>5376</th>\n",
       "      <td>China, Taiwan Province of</td>\n",
       "      <td>2019</td>\n",
       "      <td>0.023778</td>\n",
       "      <td>2.571542e+07</td>\n",
       "      <td>Nutrient nitrogen N (total)</td>\n",
       "      <td>135143.28</td>\n",
       "      <td>t</td>\n",
       "    </tr>\n",
       "    <tr>\n",
       "      <th>5388</th>\n",
       "      <td>China, Taiwan Province of</td>\n",
       "      <td>2020</td>\n",
       "      <td>0.023821</td>\n",
       "      <td>2.566951e+07</td>\n",
       "      <td>Nutrient nitrogen N (total)</td>\n",
       "      <td>142654.78</td>\n",
       "      <td>t</td>\n",
       "    </tr>\n",
       "    <tr>\n",
       "      <th>5400</th>\n",
       "      <td>China, Taiwan Province of</td>\n",
       "      <td>2021</td>\n",
       "      <td>0.023860</td>\n",
       "      <td>2.539606e+07</td>\n",
       "      <td>Nutrient nitrogen N (total)</td>\n",
       "      <td>128904.66</td>\n",
       "      <td>t</td>\n",
       "    </tr>\n",
       "    <tr>\n",
       "      <th>5412</th>\n",
       "      <td>China, Taiwan Province of</td>\n",
       "      <td>2022</td>\n",
       "      <td>0.023893</td>\n",
       "      <td>2.578485e+07</td>\n",
       "      <td>Nutrient nitrogen N (total)</td>\n",
       "      <td>124348.83</td>\n",
       "      <td>t</td>\n",
       "    </tr>\n",
       "  </tbody>\n",
       "</table>\n",
       "</div>"
      ],
      "text/plain": [
       "                           Area  Year  Population   Food (kcal)  \\\n",
       "4800                      China  2010    1.378964  1.534057e+09   \n",
       "4812                      China  2011    1.387985  1.566960e+09   \n",
       "4824                      China  2012    1.397612  1.584936e+09   \n",
       "4836                      China  2013    1.407321  1.594302e+09   \n",
       "4848                      China  2014    1.416569  1.655250e+09   \n",
       "4860                      China  2015    1.425243  1.682975e+09   \n",
       "4872                      China  2016    1.433547  1.685847e+09   \n",
       "4884                      China  2017    1.442041  1.713891e+09   \n",
       "4896                      China  2018    1.448928  1.731130e+09   \n",
       "4908                      China  2019    1.453802  1.751495e+09   \n",
       "4920                      China  2020    1.456928  1.764723e+09   \n",
       "4932                      China  2021    1.457935  1.806664e+09   \n",
       "4944                      China  2022    1.457965  1.831406e+09   \n",
       "4956       China, Hong Kong SAR  2010    0.007132  8.106015e+06   \n",
       "4968       China, Hong Kong SAR  2011    0.007175  8.199345e+06   \n",
       "4980       China, Hong Kong SAR  2012    0.007234  8.146161e+06   \n",
       "4992       China, Hong Kong SAR  2013    0.007297  8.194786e+06   \n",
       "5004       China, Hong Kong SAR  2014    0.007352  8.338944e+06   \n",
       "5016       China, Hong Kong SAR  2015    0.007400  8.245749e+06   \n",
       "5028       China, Hong Kong SAR  2016    0.007436  8.397215e+06   \n",
       "5040       China, Hong Kong SAR  2017    0.007462  8.578146e+06   \n",
       "5052       China, Hong Kong SAR  2018    0.007482  8.678023e+06   \n",
       "5064       China, Hong Kong SAR  2019    0.007496  8.730493e+06   \n",
       "5076       China, Hong Kong SAR  2020    0.007501  8.484105e+06   \n",
       "5088       China, Hong Kong SAR  2021    0.007495  8.323561e+06   \n",
       "5100       China, Hong Kong SAR  2022    0.007489  8.188391e+06   \n",
       "5112            China, mainland  2010    1.348191  1.500401e+09   \n",
       "5124            China, mainland  2011    1.357095  1.533331e+09   \n",
       "5136            China, mainland  2012    1.366561  1.551342e+09   \n",
       "5148            China, mainland  2013    1.376100  1.560434e+09   \n",
       "5160            China, mainland  2014    1.385190  1.621068e+09   \n",
       "5172            China, mainland  2015    1.393715  1.648776e+09   \n",
       "5184            China, mainland  2016    1.401890  1.651483e+09   \n",
       "5196            China, mainland  2017    1.410276  1.679289e+09   \n",
       "5208            China, mainland  2018    1.417069  1.696131e+09   \n",
       "5220            China, mainland  2019    1.421864  1.716276e+09   \n",
       "5232            China, mainland  2020    1.424930  1.729845e+09   \n",
       "5244            China, mainland  2021    1.425893  1.772204e+09   \n",
       "5256            China, mainland  2022    1.425887  1.796687e+09   \n",
       "5268  China, Taiwan Province of  2010    0.023083  2.494853e+07   \n",
       "5280  China, Taiwan Province of  2011    0.023143  2.478949e+07   \n",
       "5292  China, Taiwan Province of  2012    0.023234  2.479599e+07   \n",
       "5304  China, Taiwan Province of  2013    0.023330  2.500096e+07   \n",
       "5316  China, Taiwan Province of  2014    0.023423  2.513436e+07   \n",
       "5328  China, Taiwan Province of  2015    0.023512  2.523468e+07   \n",
       "5340  China, Taiwan Province of  2016    0.023594  2.523874e+07   \n",
       "5352  China, Taiwan Province of  2017    0.023665  2.527804e+07   \n",
       "5364  China, Taiwan Province of  2018    0.023726  2.555790e+07   \n",
       "5376  China, Taiwan Province of  2019    0.023778  2.571542e+07   \n",
       "5388  China, Taiwan Province of  2020    0.023821  2.566951e+07   \n",
       "5400  China, Taiwan Province of  2021    0.023860  2.539606e+07   \n",
       "5412  China, Taiwan Province of  2022    0.023893  2.578485e+07   \n",
       "\n",
       "                             Item  Consumption Unit  \n",
       "4800  Nutrient nitrogen N (total)  29703808.82    t  \n",
       "4812  Nutrient nitrogen N (total)  30296637.10    t  \n",
       "4824  Nutrient nitrogen N (total)  30799794.90    t  \n",
       "4836  Nutrient nitrogen N (total)  30962774.36    t  \n",
       "4848  Nutrient nitrogen N (total)  31140359.25    t  \n",
       "4860  Nutrient nitrogen N (total)  30949245.45    t  \n",
       "4872  Nutrient nitrogen N (total)  30543526.58    t  \n",
       "4884  Nutrient nitrogen N (total)  29692008.13    t  \n",
       "4896  Nutrient nitrogen N (total)  28285980.63    t  \n",
       "4908  Nutrient nitrogen N (total)  26873496.35    t  \n",
       "4920  Nutrient nitrogen N (total)  25885073.37    t  \n",
       "4932  Nutrient nitrogen N (total)  25229047.25    t  \n",
       "4944  Nutrient nitrogen N (total)  24562242.42    t  \n",
       "4956  Nutrient nitrogen N (total)       937.67    t  \n",
       "4968  Nutrient nitrogen N (total)       957.06    t  \n",
       "4980  Nutrient nitrogen N (total)       885.72    t  \n",
       "4992  Nutrient nitrogen N (total)       890.03    t  \n",
       "5004  Nutrient nitrogen N (total)       895.69    t  \n",
       "5016  Nutrient nitrogen N (total)       889.04    t  \n",
       "5028  Nutrient nitrogen N (total)       858.80    t  \n",
       "5040  Nutrient nitrogen N (total)       857.06    t  \n",
       "5052  Nutrient nitrogen N (total)       799.40    t  \n",
       "5064  Nutrient nitrogen N (total)       686.40    t  \n",
       "5076  Nutrient nitrogen N (total)       493.26    t  \n",
       "5088  Nutrient nitrogen N (total)       475.92    t  \n",
       "5100  Nutrient nitrogen N (total)       475.92    t  \n",
       "5112  Nutrient nitrogen N (total)  29531824.95    t  \n",
       "5124  Nutrient nitrogen N (total)  30131119.67    t  \n",
       "5136  Nutrient nitrogen N (total)  30632100.21    t  \n",
       "5148  Nutrient nitrogen N (total)  30800704.19    t  \n",
       "5160  Nutrient nitrogen N (total)  30981666.67    t  \n",
       "5172  Nutrient nitrogen N (total)  30795477.00    t  \n",
       "5184  Nutrient nitrogen N (total)  30387931.00    t  \n",
       "5196  Nutrient nitrogen N (total)  29544991.00    t  \n",
       "5208  Nutrient nitrogen N (total)  28141472.00    t  \n",
       "5220  Nutrient nitrogen N (total)  26737666.67    t  \n",
       "5232  Nutrient nitrogen N (total)  25741925.33    t  \n",
       "5244  Nutrient nitrogen N (total)  25099666.67    t  \n",
       "5256  Nutrient nitrogen N (total)  24437417.67    t  \n",
       "5268  Nutrient nitrogen N (total)    171046.20    t  \n",
       "5280  Nutrient nitrogen N (total)    164560.37    t  \n",
       "5292  Nutrient nitrogen N (total)    166808.97    t  \n",
       "5304  Nutrient nitrogen N (total)    161180.14    t  \n",
       "5316  Nutrient nitrogen N (total)    157796.89    t  \n",
       "5328  Nutrient nitrogen N (total)    152879.41    t  \n",
       "5340  Nutrient nitrogen N (total)    154736.78    t  \n",
       "5352  Nutrient nitrogen N (total)    146160.07    t  \n",
       "5364  Nutrient nitrogen N (total)    143709.23    t  \n",
       "5376  Nutrient nitrogen N (total)    135143.28    t  \n",
       "5388  Nutrient nitrogen N (total)    142654.78    t  \n",
       "5400  Nutrient nitrogen N (total)    128904.66    t  \n",
       "5412  Nutrient nitrogen N (total)    124348.83    t  "
      ]
     },
     "execution_count": 103,
     "metadata": {},
     "output_type": "execute_result"
    }
   ],
   "source": [
    "a=data[data['Area'].str.contains('China')].drop_duplicates(['Area','Year'])\n",
    "a['Population']=a['Population']/1e6\n",
    "a"
   ]
  },
  {
   "cell_type": "code",
   "execution_count": 95,
   "metadata": {},
   "outputs": [
    {
     "data": {
      "application/vnd.plotly.v1+json": {
       "config": {
        "plotlyServerURL": "https://plot.ly"
       },
       "data": [
        {
         "name": "2010",
         "type": "bar",
         "visible": true,
         "x": [
          "Population",
          "Food (kcal)",
          "Consumption"
         ],
         "y": {
          "bdata": "jzkUSJ0/7D/GKr93GobqP6ml3zo8sO8/",
          "dtype": "f8"
         }
        },
        {
         "name": "2011",
         "type": "bar",
         "visible": false,
         "x": [
          "Population",
          "Food (kcal)",
          "Consumption"
         ],
         "y": {
          "bdata": "FLCM/CWH7D/6rDylqwbrP+osXAOD1+8/",
          "dtype": "f8"
         }
        },
        {
         "name": "2012",
         "type": "bar",
         "visible": false,
         "x": [
          "Population",
          "Food (kcal)",
          "Consumption"
         ],
         "y": {
          "bdata": "nIwRRP8k7T9mBPDsJ6TrPwTzxSEhue8/",
          "dtype": "f8"
         }
        },
        {
         "name": "2013",
         "type": "bar",
         "visible": false,
         "x": [
          "Population",
          "Food (kcal)",
          "Consumption"
         ],
         "y": {
          "bdata": "MY7g3Gx67T/GLXK5CgDsPwAAAAAAAPA/",
          "dtype": "f8"
         }
        },
        {
         "name": "2014",
         "type": "bar",
         "visible": false,
         "x": [
          "Population",
          "Food (kcal)",
          "Consumption"
         ],
         "y": {
          "bdata": "ykvRWVPP7T+bGGNbL7rsP9o9pc9e3e8/",
          "dtype": "f8"
         }
        },
        {
         "name": "2015",
         "type": "bar",
         "visible": false,
         "x": [
          "Population",
          "Food (kcal)",
          "Consumption"
         ],
         "y": {
          "bdata": "IJqsoxEm7j+W606zzBbtP1ZwfNm+K+8/",
          "dtype": "f8"
         }
        },
        {
         "name": "2016",
         "type": "bar",
         "visible": false,
         "x": [
          "Population",
          "Food (kcal)",
          "Consumption"
         ],
         "y": {
          "bdata": "pqqxTHl47j9DP87pbXHtP6+uQTf/Y+4/",
          "dtype": "f8"
         }
        },
        {
         "name": "2017",
         "type": "bar",
         "visible": false,
         "x": [
          "Population",
          "Food (kcal)",
          "Consumption"
         ],
         "y": {
          "bdata": "pAto73/L7j8iN9XbLQHuP6dZOtO5Hu8/",
          "dtype": "f8"
         }
        },
        {
         "name": "2018",
         "type": "bar",
         "visible": false,
         "x": [
          "Population",
          "Food (kcal)",
          "Consumption"
         ],
         "y": {
          "bdata": "rtUqHsQb7z/cbhcwX2nuP8wZl5Xnl+4/",
          "dtype": "f8"
         }
        },
        {
         "name": "2019",
         "type": "bar",
         "visible": false,
         "x": [
          "Population",
          "Food (kcal)",
          "Consumption"
         ],
         "y": {
          "bdata": "7X/JK/Zd7z/M/cHxQNbuP/ySVOy4se0/",
          "dtype": "f8"
         }
        },
        {
         "name": "2020",
         "type": "bar",
         "visible": false,
         "x": [
          "Population",
          "Food (kcal)",
          "Consumption"
         ],
         "y": {
          "bdata": "uu6keN6i7z/GcwIfojfvP9HfB76Q9+8/",
          "dtype": "f8"
         }
        },
        {
         "name": "2021",
         "type": "bar",
         "visible": false,
         "x": [
          "Population",
          "Food (kcal)",
          "Consumption"
         ],
         "y": {
          "bdata": "nqSlnm/c7z9aa4v2obTvP20KTsQ9qe4/",
          "dtype": "f8"
         }
        },
        {
         "name": "2022",
         "type": "bar",
         "visible": false,
         "x": [
          "Population",
          "Food (kcal)",
          "Consumption"
         ],
         "y": {
          "bdata": "AAAAAAAA8D8AAAAAAADwP8ds4uRMWuw/",
          "dtype": "f8"
         }
        }
       ],
       "layout": {
        "barmode": "group",
        "sliders": [
         {
          "active": 0,
          "currentvalue": {
           "prefix": "Year: "
          },
          "pad": {
           "t": 50
          },
          "steps": [
           {
            "args": [
             {
              "visible": [
               true,
               false,
               false,
               false,
               false,
               false,
               false,
               false,
               false,
               false,
               false,
               false,
               false
              ]
             },
             {
              "title": "Year: 2010"
             }
            ],
            "label": "2010",
            "method": "update"
           },
           {
            "args": [
             {
              "visible": [
               false,
               true,
               false,
               false,
               false,
               false,
               false,
               false,
               false,
               false,
               false,
               false,
               false
              ]
             },
             {
              "title": "Year: 2011"
             }
            ],
            "label": "2011",
            "method": "update"
           },
           {
            "args": [
             {
              "visible": [
               false,
               false,
               true,
               false,
               false,
               false,
               false,
               false,
               false,
               false,
               false,
               false,
               false
              ]
             },
             {
              "title": "Year: 2012"
             }
            ],
            "label": "2012",
            "method": "update"
           },
           {
            "args": [
             {
              "visible": [
               false,
               false,
               false,
               true,
               false,
               false,
               false,
               false,
               false,
               false,
               false,
               false,
               false
              ]
             },
             {
              "title": "Year: 2013"
             }
            ],
            "label": "2013",
            "method": "update"
           },
           {
            "args": [
             {
              "visible": [
               false,
               false,
               false,
               false,
               true,
               false,
               false,
               false,
               false,
               false,
               false,
               false,
               false
              ]
             },
             {
              "title": "Year: 2014"
             }
            ],
            "label": "2014",
            "method": "update"
           },
           {
            "args": [
             {
              "visible": [
               false,
               false,
               false,
               false,
               false,
               true,
               false,
               false,
               false,
               false,
               false,
               false,
               false
              ]
             },
             {
              "title": "Year: 2015"
             }
            ],
            "label": "2015",
            "method": "update"
           },
           {
            "args": [
             {
              "visible": [
               false,
               false,
               false,
               false,
               false,
               false,
               true,
               false,
               false,
               false,
               false,
               false,
               false
              ]
             },
             {
              "title": "Year: 2016"
             }
            ],
            "label": "2016",
            "method": "update"
           },
           {
            "args": [
             {
              "visible": [
               false,
               false,
               false,
               false,
               false,
               false,
               false,
               true,
               false,
               false,
               false,
               false,
               false
              ]
             },
             {
              "title": "Year: 2017"
             }
            ],
            "label": "2017",
            "method": "update"
           },
           {
            "args": [
             {
              "visible": [
               false,
               false,
               false,
               false,
               false,
               false,
               false,
               false,
               true,
               false,
               false,
               false,
               false
              ]
             },
             {
              "title": "Year: 2018"
             }
            ],
            "label": "2018",
            "method": "update"
           },
           {
            "args": [
             {
              "visible": [
               false,
               false,
               false,
               false,
               false,
               false,
               false,
               false,
               false,
               true,
               false,
               false,
               false
              ]
             },
             {
              "title": "Year: 2019"
             }
            ],
            "label": "2019",
            "method": "update"
           },
           {
            "args": [
             {
              "visible": [
               false,
               false,
               false,
               false,
               false,
               false,
               false,
               false,
               false,
               false,
               true,
               false,
               false
              ]
             },
             {
              "title": "Year: 2020"
             }
            ],
            "label": "2020",
            "method": "update"
           },
           {
            "args": [
             {
              "visible": [
               false,
               false,
               false,
               false,
               false,
               false,
               false,
               false,
               false,
               false,
               false,
               true,
               false
              ]
             },
             {
              "title": "Year: 2021"
             }
            ],
            "label": "2021",
            "method": "update"
           },
           {
            "args": [
             {
              "visible": [
               false,
               false,
               false,
               false,
               false,
               false,
               false,
               false,
               false,
               false,
               false,
               false,
               true
              ]
             },
             {
              "title": "Year: 2022"
             }
            ],
            "label": "2022",
            "method": "update"
           }
          ]
         }
        ],
        "template": {
         "data": {
          "bar": [
           {
            "error_x": {
             "color": "#2a3f5f"
            },
            "error_y": {
             "color": "#2a3f5f"
            },
            "marker": {
             "line": {
              "color": "#E5ECF6",
              "width": 0.5
             },
             "pattern": {
              "fillmode": "overlay",
              "size": 10,
              "solidity": 0.2
             }
            },
            "type": "bar"
           }
          ],
          "barpolar": [
           {
            "marker": {
             "line": {
              "color": "#E5ECF6",
              "width": 0.5
             },
             "pattern": {
              "fillmode": "overlay",
              "size": 10,
              "solidity": 0.2
             }
            },
            "type": "barpolar"
           }
          ],
          "carpet": [
           {
            "aaxis": {
             "endlinecolor": "#2a3f5f",
             "gridcolor": "white",
             "linecolor": "white",
             "minorgridcolor": "white",
             "startlinecolor": "#2a3f5f"
            },
            "baxis": {
             "endlinecolor": "#2a3f5f",
             "gridcolor": "white",
             "linecolor": "white",
             "minorgridcolor": "white",
             "startlinecolor": "#2a3f5f"
            },
            "type": "carpet"
           }
          ],
          "choropleth": [
           {
            "colorbar": {
             "outlinewidth": 0,
             "ticks": ""
            },
            "type": "choropleth"
           }
          ],
          "contour": [
           {
            "colorbar": {
             "outlinewidth": 0,
             "ticks": ""
            },
            "colorscale": [
             [
              0,
              "#0d0887"
             ],
             [
              0.1111111111111111,
              "#46039f"
             ],
             [
              0.2222222222222222,
              "#7201a8"
             ],
             [
              0.3333333333333333,
              "#9c179e"
             ],
             [
              0.4444444444444444,
              "#bd3786"
             ],
             [
              0.5555555555555556,
              "#d8576b"
             ],
             [
              0.6666666666666666,
              "#ed7953"
             ],
             [
              0.7777777777777778,
              "#fb9f3a"
             ],
             [
              0.8888888888888888,
              "#fdca26"
             ],
             [
              1,
              "#f0f921"
             ]
            ],
            "type": "contour"
           }
          ],
          "contourcarpet": [
           {
            "colorbar": {
             "outlinewidth": 0,
             "ticks": ""
            },
            "type": "contourcarpet"
           }
          ],
          "heatmap": [
           {
            "colorbar": {
             "outlinewidth": 0,
             "ticks": ""
            },
            "colorscale": [
             [
              0,
              "#0d0887"
             ],
             [
              0.1111111111111111,
              "#46039f"
             ],
             [
              0.2222222222222222,
              "#7201a8"
             ],
             [
              0.3333333333333333,
              "#9c179e"
             ],
             [
              0.4444444444444444,
              "#bd3786"
             ],
             [
              0.5555555555555556,
              "#d8576b"
             ],
             [
              0.6666666666666666,
              "#ed7953"
             ],
             [
              0.7777777777777778,
              "#fb9f3a"
             ],
             [
              0.8888888888888888,
              "#fdca26"
             ],
             [
              1,
              "#f0f921"
             ]
            ],
            "type": "heatmap"
           }
          ],
          "histogram": [
           {
            "marker": {
             "pattern": {
              "fillmode": "overlay",
              "size": 10,
              "solidity": 0.2
             }
            },
            "type": "histogram"
           }
          ],
          "histogram2d": [
           {
            "colorbar": {
             "outlinewidth": 0,
             "ticks": ""
            },
            "colorscale": [
             [
              0,
              "#0d0887"
             ],
             [
              0.1111111111111111,
              "#46039f"
             ],
             [
              0.2222222222222222,
              "#7201a8"
             ],
             [
              0.3333333333333333,
              "#9c179e"
             ],
             [
              0.4444444444444444,
              "#bd3786"
             ],
             [
              0.5555555555555556,
              "#d8576b"
             ],
             [
              0.6666666666666666,
              "#ed7953"
             ],
             [
              0.7777777777777778,
              "#fb9f3a"
             ],
             [
              0.8888888888888888,
              "#fdca26"
             ],
             [
              1,
              "#f0f921"
             ]
            ],
            "type": "histogram2d"
           }
          ],
          "histogram2dcontour": [
           {
            "colorbar": {
             "outlinewidth": 0,
             "ticks": ""
            },
            "colorscale": [
             [
              0,
              "#0d0887"
             ],
             [
              0.1111111111111111,
              "#46039f"
             ],
             [
              0.2222222222222222,
              "#7201a8"
             ],
             [
              0.3333333333333333,
              "#9c179e"
             ],
             [
              0.4444444444444444,
              "#bd3786"
             ],
             [
              0.5555555555555556,
              "#d8576b"
             ],
             [
              0.6666666666666666,
              "#ed7953"
             ],
             [
              0.7777777777777778,
              "#fb9f3a"
             ],
             [
              0.8888888888888888,
              "#fdca26"
             ],
             [
              1,
              "#f0f921"
             ]
            ],
            "type": "histogram2dcontour"
           }
          ],
          "mesh3d": [
           {
            "colorbar": {
             "outlinewidth": 0,
             "ticks": ""
            },
            "type": "mesh3d"
           }
          ],
          "parcoords": [
           {
            "line": {
             "colorbar": {
              "outlinewidth": 0,
              "ticks": ""
             }
            },
            "type": "parcoords"
           }
          ],
          "pie": [
           {
            "automargin": true,
            "type": "pie"
           }
          ],
          "scatter": [
           {
            "fillpattern": {
             "fillmode": "overlay",
             "size": 10,
             "solidity": 0.2
            },
            "type": "scatter"
           }
          ],
          "scatter3d": [
           {
            "line": {
             "colorbar": {
              "outlinewidth": 0,
              "ticks": ""
             }
            },
            "marker": {
             "colorbar": {
              "outlinewidth": 0,
              "ticks": ""
             }
            },
            "type": "scatter3d"
           }
          ],
          "scattercarpet": [
           {
            "marker": {
             "colorbar": {
              "outlinewidth": 0,
              "ticks": ""
             }
            },
            "type": "scattercarpet"
           }
          ],
          "scattergeo": [
           {
            "marker": {
             "colorbar": {
              "outlinewidth": 0,
              "ticks": ""
             }
            },
            "type": "scattergeo"
           }
          ],
          "scattergl": [
           {
            "marker": {
             "colorbar": {
              "outlinewidth": 0,
              "ticks": ""
             }
            },
            "type": "scattergl"
           }
          ],
          "scattermap": [
           {
            "marker": {
             "colorbar": {
              "outlinewidth": 0,
              "ticks": ""
             }
            },
            "type": "scattermap"
           }
          ],
          "scattermapbox": [
           {
            "marker": {
             "colorbar": {
              "outlinewidth": 0,
              "ticks": ""
             }
            },
            "type": "scattermapbox"
           }
          ],
          "scatterpolar": [
           {
            "marker": {
             "colorbar": {
              "outlinewidth": 0,
              "ticks": ""
             }
            },
            "type": "scatterpolar"
           }
          ],
          "scatterpolargl": [
           {
            "marker": {
             "colorbar": {
              "outlinewidth": 0,
              "ticks": ""
             }
            },
            "type": "scatterpolargl"
           }
          ],
          "scatterternary": [
           {
            "marker": {
             "colorbar": {
              "outlinewidth": 0,
              "ticks": ""
             }
            },
            "type": "scatterternary"
           }
          ],
          "surface": [
           {
            "colorbar": {
             "outlinewidth": 0,
             "ticks": ""
            },
            "colorscale": [
             [
              0,
              "#0d0887"
             ],
             [
              0.1111111111111111,
              "#46039f"
             ],
             [
              0.2222222222222222,
              "#7201a8"
             ],
             [
              0.3333333333333333,
              "#9c179e"
             ],
             [
              0.4444444444444444,
              "#bd3786"
             ],
             [
              0.5555555555555556,
              "#d8576b"
             ],
             [
              0.6666666666666666,
              "#ed7953"
             ],
             [
              0.7777777777777778,
              "#fb9f3a"
             ],
             [
              0.8888888888888888,
              "#fdca26"
             ],
             [
              1,
              "#f0f921"
             ]
            ],
            "type": "surface"
           }
          ],
          "table": [
           {
            "cells": {
             "fill": {
              "color": "#EBF0F8"
             },
             "line": {
              "color": "white"
             }
            },
            "header": {
             "fill": {
              "color": "#C8D4E3"
             },
             "line": {
              "color": "white"
             }
            },
            "type": "table"
           }
          ]
         },
         "layout": {
          "annotationdefaults": {
           "arrowcolor": "#2a3f5f",
           "arrowhead": 0,
           "arrowwidth": 1
          },
          "autotypenumbers": "strict",
          "coloraxis": {
           "colorbar": {
            "outlinewidth": 0,
            "ticks": ""
           }
          },
          "colorscale": {
           "diverging": [
            [
             0,
             "#8e0152"
            ],
            [
             0.1,
             "#c51b7d"
            ],
            [
             0.2,
             "#de77ae"
            ],
            [
             0.3,
             "#f1b6da"
            ],
            [
             0.4,
             "#fde0ef"
            ],
            [
             0.5,
             "#f7f7f7"
            ],
            [
             0.6,
             "#e6f5d0"
            ],
            [
             0.7,
             "#b8e186"
            ],
            [
             0.8,
             "#7fbc41"
            ],
            [
             0.9,
             "#4d9221"
            ],
            [
             1,
             "#276419"
            ]
           ],
           "sequential": [
            [
             0,
             "#0d0887"
            ],
            [
             0.1111111111111111,
             "#46039f"
            ],
            [
             0.2222222222222222,
             "#7201a8"
            ],
            [
             0.3333333333333333,
             "#9c179e"
            ],
            [
             0.4444444444444444,
             "#bd3786"
            ],
            [
             0.5555555555555556,
             "#d8576b"
            ],
            [
             0.6666666666666666,
             "#ed7953"
            ],
            [
             0.7777777777777778,
             "#fb9f3a"
            ],
            [
             0.8888888888888888,
             "#fdca26"
            ],
            [
             1,
             "#f0f921"
            ]
           ],
           "sequentialminus": [
            [
             0,
             "#0d0887"
            ],
            [
             0.1111111111111111,
             "#46039f"
            ],
            [
             0.2222222222222222,
             "#7201a8"
            ],
            [
             0.3333333333333333,
             "#9c179e"
            ],
            [
             0.4444444444444444,
             "#bd3786"
            ],
            [
             0.5555555555555556,
             "#d8576b"
            ],
            [
             0.6666666666666666,
             "#ed7953"
            ],
            [
             0.7777777777777778,
             "#fb9f3a"
            ],
            [
             0.8888888888888888,
             "#fdca26"
            ],
            [
             1,
             "#f0f921"
            ]
           ]
          },
          "colorway": [
           "#636efa",
           "#EF553B",
           "#00cc96",
           "#ab63fa",
           "#FFA15A",
           "#19d3f3",
           "#FF6692",
           "#B6E880",
           "#FF97FF",
           "#FECB52"
          ],
          "font": {
           "color": "#2a3f5f"
          },
          "geo": {
           "bgcolor": "white",
           "lakecolor": "white",
           "landcolor": "#E5ECF6",
           "showlakes": true,
           "showland": true,
           "subunitcolor": "white"
          },
          "hoverlabel": {
           "align": "left"
          },
          "hovermode": "closest",
          "mapbox": {
           "style": "light"
          },
          "paper_bgcolor": "white",
          "plot_bgcolor": "#E5ECF6",
          "polar": {
           "angularaxis": {
            "gridcolor": "white",
            "linecolor": "white",
            "ticks": ""
           },
           "bgcolor": "#E5ECF6",
           "radialaxis": {
            "gridcolor": "white",
            "linecolor": "white",
            "ticks": ""
           }
          },
          "scene": {
           "xaxis": {
            "backgroundcolor": "#E5ECF6",
            "gridcolor": "white",
            "gridwidth": 2,
            "linecolor": "white",
            "showbackground": true,
            "ticks": "",
            "zerolinecolor": "white"
           },
           "yaxis": {
            "backgroundcolor": "#E5ECF6",
            "gridcolor": "white",
            "gridwidth": 2,
            "linecolor": "white",
            "showbackground": true,
            "ticks": "",
            "zerolinecolor": "white"
           },
           "zaxis": {
            "backgroundcolor": "#E5ECF6",
            "gridcolor": "white",
            "gridwidth": 2,
            "linecolor": "white",
            "showbackground": true,
            "ticks": "",
            "zerolinecolor": "white"
           }
          },
          "shapedefaults": {
           "line": {
            "color": "#2a3f5f"
           }
          },
          "ternary": {
           "aaxis": {
            "gridcolor": "white",
            "linecolor": "white",
            "ticks": ""
           },
           "baxis": {
            "gridcolor": "white",
            "linecolor": "white",
            "ticks": ""
           },
           "bgcolor": "#E5ECF6",
           "caxis": {
            "gridcolor": "white",
            "linecolor": "white",
            "ticks": ""
           }
          },
          "title": {
           "x": 0.05
          },
          "xaxis": {
           "automargin": true,
           "gridcolor": "white",
           "linecolor": "white",
           "ticks": "",
           "title": {
            "standoff": 15
           },
           "zerolinecolor": "white",
           "zerolinewidth": 2
          },
          "yaxis": {
           "automargin": true,
           "gridcolor": "white",
           "linecolor": "white",
           "ticks": "",
           "title": {
            "standoff": 15
           },
           "zerolinecolor": "white",
           "zerolinewidth": 2
          }
         }
        },
        "title": {
         "text": "Category Values Over Years"
        },
        "xaxis": {
         "title": {
          "text": "Categories"
         }
        },
        "yaxis": {
         "title": {
          "text": "Values"
         }
        }
       }
      }
     },
     "metadata": {},
     "output_type": "display_data"
    }
   ],
   "source": [
    "import pandas as pd\n",
    "import plotly.graph_objects as go\n",
    "from plotly.subplots import make_subplots\n",
    "from scipy.stats.mstats import gmean\n",
    "\n",
    "# Sample DataFrame\n",
    "df=data[(data['Item']=='Nutrient phosphate P2O5 (total)') & (data['Unit']=='t')].groupby('Year').aggregate({'Population':'sum', 'Food (kcal)':'sum','Consumption':'sum'}).reset_index()\n",
    "df[['Population','Food (kcal)','Consumption']]=df[['Population','Food (kcal)','Consumption']]/df[['Population','Food (kcal)','Consumption']].max()\n",
    "\n",
    "\n",
    "#df[['Population', 'Food (kcal)', 'Consumption']]=df[['Population', 'Food (kcal)', 'Consumption']]/gmean(df[['Population', 'Food (kcal)', 'Consumption']], axis=1).reshape((13,1))\n",
    "\n",
    "# Create figure\n",
    "fig = go.Figure()\n",
    "\n",
    "# Add traces for each year\n",
    "for year in df['Year']:\n",
    "    fig.add_trace(go.Bar(\n",
    "        x=df.columns[1:],  # Categories\n",
    "        y=df[df['Year'] == year].values[0][1:],  # Values for that year\n",
    "        name=str(year),\n",
    "        visible=(year == df['Year'].iloc[0])  # Only first year visible initially\n",
    "    ))\n",
    "\n",
    "# Create slider steps\n",
    "steps = []\n",
    "for i, year in enumerate(df['Year']):\n",
    "    step = {\n",
    "        'method': 'update',\n",
    "        'args': [\n",
    "            {'visible': [j == i for j in range(len(df['Year']))]},  # Show only selected year's bars\n",
    "            {'title': f\"Year: {year}\"}\n",
    "        ],\n",
    "        'label': str(year)\n",
    "    }\n",
    "    steps.append(step)\n",
    "\n",
    "# Add slider\n",
    "fig.update_layout(\n",
    "    sliders=[{\n",
    "        'active': 0,\n",
    "        'currentvalue': {\"prefix\": \"Year: \"},\n",
    "        'pad': {\"t\": 50},\n",
    "        'steps': steps\n",
    "    }],\n",
    "    title=\"Category Values Over Years\",\n",
    "    xaxis_title=\"Categories\",\n",
    "    yaxis_title=\"Values\",\n",
    "    barmode='group',\n",
    "    #yaxis_type=\"log\",\n",
    ")\n",
    "\n",
    "fig.show()\n"
   ]
  },
  {
   "cell_type": "code",
   "execution_count": 25,
   "metadata": {},
   "outputs": [],
   "source": [
    "import nbformat"
   ]
  },
  {
   "cell_type": "code",
   "execution_count": 26,
   "metadata": {},
   "outputs": [
    {
     "data": {
      "text/plain": [
       "'5.10.4'"
      ]
     },
     "execution_count": 26,
     "metadata": {},
     "output_type": "execute_result"
    }
   ],
   "source": [
    "nbformat.__version__"
   ]
  },
  {
   "cell_type": "code",
   "execution_count": 27,
   "metadata": {},
   "outputs": [
    {
     "data": {
      "text/html": [
       "<div>\n",
       "<style scoped>\n",
       "    .dataframe tbody tr th:only-of-type {\n",
       "        vertical-align: middle;\n",
       "    }\n",
       "\n",
       "    .dataframe tbody tr th {\n",
       "        vertical-align: top;\n",
       "    }\n",
       "\n",
       "    .dataframe thead th {\n",
       "        text-align: right;\n",
       "    }\n",
       "</style>\n",
       "<table border=\"1\" class=\"dataframe\">\n",
       "  <thead>\n",
       "    <tr style=\"text-align: right;\">\n",
       "      <th></th>\n",
       "      <th>Domain Code</th>\n",
       "      <th>Domain</th>\n",
       "      <th>Area Code (M49)</th>\n",
       "      <th>Area</th>\n",
       "      <th>Element Code</th>\n",
       "      <th>Element</th>\n",
       "      <th>Item Code (FBS)</th>\n",
       "      <th>Item</th>\n",
       "      <th>Year Code</th>\n",
       "      <th>Year</th>\n",
       "      <th>Unit</th>\n",
       "      <th>Value</th>\n",
       "      <th>Flag</th>\n",
       "      <th>Flag Description</th>\n",
       "      <th>Note</th>\n",
       "    </tr>\n",
       "  </thead>\n",
       "  <tbody>\n",
       "    <tr>\n",
       "      <th>14</th>\n",
       "      <td>FBS</td>\n",
       "      <td>Food Balances (2010-)</td>\n",
       "      <td>4</td>\n",
       "      <td>Afghanistan</td>\n",
       "      <td>661</td>\n",
       "      <td>Food supply (kcal)</td>\n",
       "      <td>S2901</td>\n",
       "      <td>Grand Total</td>\n",
       "      <td>2010</td>\n",
       "      <td>2010</td>\n",
       "      <td>million Kcal</td>\n",
       "      <td>22714261.33</td>\n",
       "      <td>E</td>\n",
       "      <td>Estimated value</td>\n",
       "      <td>NaN</td>\n",
       "    </tr>\n",
       "    <tr>\n",
       "      <th>16</th>\n",
       "      <td>FBS</td>\n",
       "      <td>Food Balances (2010-)</td>\n",
       "      <td>4</td>\n",
       "      <td>Afghanistan</td>\n",
       "      <td>661</td>\n",
       "      <td>Food supply (kcal)</td>\n",
       "      <td>S2901</td>\n",
       "      <td>Grand Total</td>\n",
       "      <td>2011</td>\n",
       "      <td>2011</td>\n",
       "      <td>million Kcal</td>\n",
       "      <td>23264732.28</td>\n",
       "      <td>E</td>\n",
       "      <td>Estimated value</td>\n",
       "      <td>NaN</td>\n",
       "    </tr>\n",
       "    <tr>\n",
       "      <th>18</th>\n",
       "      <td>FBS</td>\n",
       "      <td>Food Balances (2010-)</td>\n",
       "      <td>4</td>\n",
       "      <td>Afghanistan</td>\n",
       "      <td>661</td>\n",
       "      <td>Food supply (kcal)</td>\n",
       "      <td>S2901</td>\n",
       "      <td>Grand Total</td>\n",
       "      <td>2012</td>\n",
       "      <td>2012</td>\n",
       "      <td>million Kcal</td>\n",
       "      <td>24159167.28</td>\n",
       "      <td>E</td>\n",
       "      <td>Estimated value</td>\n",
       "      <td>NaN</td>\n",
       "    </tr>\n",
       "    <tr>\n",
       "      <th>20</th>\n",
       "      <td>FBS</td>\n",
       "      <td>Food Balances (2010-)</td>\n",
       "      <td>4</td>\n",
       "      <td>Afghanistan</td>\n",
       "      <td>661</td>\n",
       "      <td>Food supply (kcal)</td>\n",
       "      <td>S2901</td>\n",
       "      <td>Grand Total</td>\n",
       "      <td>2013</td>\n",
       "      <td>2013</td>\n",
       "      <td>million Kcal</td>\n",
       "      <td>25454589.34</td>\n",
       "      <td>E</td>\n",
       "      <td>Estimated value</td>\n",
       "      <td>NaN</td>\n",
       "    </tr>\n",
       "    <tr>\n",
       "      <th>22</th>\n",
       "      <td>FBS</td>\n",
       "      <td>Food Balances (2010-)</td>\n",
       "      <td>4</td>\n",
       "      <td>Afghanistan</td>\n",
       "      <td>661</td>\n",
       "      <td>Food supply (kcal)</td>\n",
       "      <td>S2901</td>\n",
       "      <td>Grand Total</td>\n",
       "      <td>2014</td>\n",
       "      <td>2014</td>\n",
       "      <td>million Kcal</td>\n",
       "      <td>27175651.90</td>\n",
       "      <td>E</td>\n",
       "      <td>Estimated value</td>\n",
       "      <td>NaN</td>\n",
       "    </tr>\n",
       "    <tr>\n",
       "      <th>...</th>\n",
       "      <td>...</td>\n",
       "      <td>...</td>\n",
       "      <td>...</td>\n",
       "      <td>...</td>\n",
       "      <td>...</td>\n",
       "      <td>...</td>\n",
       "      <td>...</td>\n",
       "      <td>...</td>\n",
       "      <td>...</td>\n",
       "      <td>...</td>\n",
       "      <td>...</td>\n",
       "      <td>...</td>\n",
       "      <td>...</td>\n",
       "      <td>...</td>\n",
       "      <td>...</td>\n",
       "    </tr>\n",
       "    <tr>\n",
       "      <th>37821</th>\n",
       "      <td>FBS</td>\n",
       "      <td>Food Balances (2010-)</td>\n",
       "      <td>716</td>\n",
       "      <td>Zimbabwe</td>\n",
       "      <td>661</td>\n",
       "      <td>Food supply (kcal)</td>\n",
       "      <td>S2901</td>\n",
       "      <td>Grand Total</td>\n",
       "      <td>2018</td>\n",
       "      <td>2018</td>\n",
       "      <td>million Kcal</td>\n",
       "      <td>11362851.44</td>\n",
       "      <td>E</td>\n",
       "      <td>Estimated value</td>\n",
       "      <td>NaN</td>\n",
       "    </tr>\n",
       "    <tr>\n",
       "      <th>37823</th>\n",
       "      <td>FBS</td>\n",
       "      <td>Food Balances (2010-)</td>\n",
       "      <td>716</td>\n",
       "      <td>Zimbabwe</td>\n",
       "      <td>661</td>\n",
       "      <td>Food supply (kcal)</td>\n",
       "      <td>S2901</td>\n",
       "      <td>Grand Total</td>\n",
       "      <td>2019</td>\n",
       "      <td>2019</td>\n",
       "      <td>million Kcal</td>\n",
       "      <td>11361756.90</td>\n",
       "      <td>E</td>\n",
       "      <td>Estimated value</td>\n",
       "      <td>NaN</td>\n",
       "    </tr>\n",
       "    <tr>\n",
       "      <th>37825</th>\n",
       "      <td>FBS</td>\n",
       "      <td>Food Balances (2010-)</td>\n",
       "      <td>716</td>\n",
       "      <td>Zimbabwe</td>\n",
       "      <td>661</td>\n",
       "      <td>Food supply (kcal)</td>\n",
       "      <td>S2901</td>\n",
       "      <td>Grand Total</td>\n",
       "      <td>2020</td>\n",
       "      <td>2020</td>\n",
       "      <td>million Kcal</td>\n",
       "      <td>11535757.10</td>\n",
       "      <td>E</td>\n",
       "      <td>Estimated value</td>\n",
       "      <td>NaN</td>\n",
       "    </tr>\n",
       "    <tr>\n",
       "      <th>37827</th>\n",
       "      <td>FBS</td>\n",
       "      <td>Food Balances (2010-)</td>\n",
       "      <td>716</td>\n",
       "      <td>Zimbabwe</td>\n",
       "      <td>661</td>\n",
       "      <td>Food supply (kcal)</td>\n",
       "      <td>S2901</td>\n",
       "      <td>Grand Total</td>\n",
       "      <td>2021</td>\n",
       "      <td>2021</td>\n",
       "      <td>million Kcal</td>\n",
       "      <td>12016223.71</td>\n",
       "      <td>E</td>\n",
       "      <td>Estimated value</td>\n",
       "      <td>NaN</td>\n",
       "    </tr>\n",
       "    <tr>\n",
       "      <th>37829</th>\n",
       "      <td>FBS</td>\n",
       "      <td>Food Balances (2010-)</td>\n",
       "      <td>716</td>\n",
       "      <td>Zimbabwe</td>\n",
       "      <td>661</td>\n",
       "      <td>Food supply (kcal)</td>\n",
       "      <td>S2901</td>\n",
       "      <td>Grand Total</td>\n",
       "      <td>2022</td>\n",
       "      <td>2022</td>\n",
       "      <td>million Kcal</td>\n",
       "      <td>12155291.61</td>\n",
       "      <td>E</td>\n",
       "      <td>Estimated value</td>\n",
       "      <td>NaN</td>\n",
       "    </tr>\n",
       "  </tbody>\n",
       "</table>\n",
       "<p>2384 rows × 15 columns</p>\n",
       "</div>"
      ],
      "text/plain": [
       "      Domain Code                 Domain  Area Code (M49)         Area  \\\n",
       "14            FBS  Food Balances (2010-)                4  Afghanistan   \n",
       "16            FBS  Food Balances (2010-)                4  Afghanistan   \n",
       "18            FBS  Food Balances (2010-)                4  Afghanistan   \n",
       "20            FBS  Food Balances (2010-)                4  Afghanistan   \n",
       "22            FBS  Food Balances (2010-)                4  Afghanistan   \n",
       "...           ...                    ...              ...          ...   \n",
       "37821         FBS  Food Balances (2010-)              716     Zimbabwe   \n",
       "37823         FBS  Food Balances (2010-)              716     Zimbabwe   \n",
       "37825         FBS  Food Balances (2010-)              716     Zimbabwe   \n",
       "37827         FBS  Food Balances (2010-)              716     Zimbabwe   \n",
       "37829         FBS  Food Balances (2010-)              716     Zimbabwe   \n",
       "\n",
       "       Element Code             Element Item Code (FBS)         Item  \\\n",
       "14              661  Food supply (kcal)           S2901  Grand Total   \n",
       "16              661  Food supply (kcal)           S2901  Grand Total   \n",
       "18              661  Food supply (kcal)           S2901  Grand Total   \n",
       "20              661  Food supply (kcal)           S2901  Grand Total   \n",
       "22              661  Food supply (kcal)           S2901  Grand Total   \n",
       "...             ...                 ...             ...          ...   \n",
       "37821           661  Food supply (kcal)           S2901  Grand Total   \n",
       "37823           661  Food supply (kcal)           S2901  Grand Total   \n",
       "37825           661  Food supply (kcal)           S2901  Grand Total   \n",
       "37827           661  Food supply (kcal)           S2901  Grand Total   \n",
       "37829           661  Food supply (kcal)           S2901  Grand Total   \n",
       "\n",
       "       Year Code  Year          Unit        Value Flag Flag Description  Note  \n",
       "14          2010  2010  million Kcal  22714261.33    E  Estimated value   NaN  \n",
       "16          2011  2011  million Kcal  23264732.28    E  Estimated value   NaN  \n",
       "18          2012  2012  million Kcal  24159167.28    E  Estimated value   NaN  \n",
       "20          2013  2013  million Kcal  25454589.34    E  Estimated value   NaN  \n",
       "22          2014  2014  million Kcal  27175651.90    E  Estimated value   NaN  \n",
       "...          ...   ...           ...          ...  ...              ...   ...  \n",
       "37821       2018  2018  million Kcal  11362851.44    E  Estimated value   NaN  \n",
       "37823       2019  2019  million Kcal  11361756.90    E  Estimated value   NaN  \n",
       "37825       2020  2020  million Kcal  11535757.10    E  Estimated value   NaN  \n",
       "37827       2021  2021  million Kcal  12016223.71    E  Estimated value   NaN  \n",
       "37829       2022  2022  million Kcal  12155291.61    E  Estimated value   NaN  \n",
       "\n",
       "[2384 rows x 15 columns]"
      ]
     },
     "execution_count": 27,
     "metadata": {},
     "output_type": "execute_result"
    }
   ],
   "source": [
    "food_balances_df[(food_balances_df['Item']=='Grand Total') & (food_balances_df['Element']=='Food supply (kcal)')]"
   ]
  },
  {
   "cell_type": "code",
   "execution_count": 28,
   "metadata": {},
   "outputs": [
    {
     "data": {
      "image/png": "[encoded data removed]",
      "text/plain": [
       "<Figure size 640x480 with 1 Axes>"
      ]
     },
     "metadata": {},
     "output_type": "display_data"
    }
   ],
   "source": [
    "ax = sns.lineplot(\n",
    "    food_balances_df[(food_balances_df['Item']=='Grand Total') & (food_balances_df['Element']=='Food supply (kcal)')],\n",
    "    x='Year',\n",
    "    y='Value',\n",
    "    hue='Area',\n",
    "    legend=False\n",
    ")\n",
    "ax.set_yscale('log')\n"
   ]
  },
  {
   "cell_type": "code",
   "execution_count": 29,
   "metadata": {},
   "outputs": [
    {
     "data": {
      "text/html": [
       "<div>\n",
       "<style scoped>\n",
       "    .dataframe tbody tr th:only-of-type {\n",
       "        vertical-align: middle;\n",
       "    }\n",
       "\n",
       "    .dataframe tbody tr th {\n",
       "        vertical-align: top;\n",
       "    }\n",
       "\n",
       "    .dataframe thead th {\n",
       "        text-align: right;\n",
       "    }\n",
       "</style>\n",
       "<table border=\"1\" class=\"dataframe\">\n",
       "  <thead>\n",
       "    <tr style=\"text-align: right;\">\n",
       "      <th></th>\n",
       "      <th>Domain Code</th>\n",
       "      <th>Domain</th>\n",
       "      <th>Area Code (M49)</th>\n",
       "      <th>Area</th>\n",
       "      <th>Element Code</th>\n",
       "      <th>Element</th>\n",
       "      <th>Item Code (FBS)</th>\n",
       "      <th>Item</th>\n",
       "      <th>Year Code</th>\n",
       "      <th>Year</th>\n",
       "      <th>Unit</th>\n",
       "      <th>Value</th>\n",
       "      <th>Flag</th>\n",
       "      <th>Flag Description</th>\n",
       "      <th>Note</th>\n",
       "    </tr>\n",
       "  </thead>\n",
       "  <tbody>\n",
       "    <tr>\n",
       "      <th>24305</th>\n",
       "      <td>FBS</td>\n",
       "      <td>Food Balances (2010-)</td>\n",
       "      <td>530</td>\n",
       "      <td>Netherlands Antilles (former)</td>\n",
       "      <td>661</td>\n",
       "      <td>Food supply (kcal)</td>\n",
       "      <td>S2901</td>\n",
       "      <td>Grand Total</td>\n",
       "      <td>2010</td>\n",
       "      <td>2010</td>\n",
       "      <td>million Kcal</td>\n",
       "      <td>3.567050e+03</td>\n",
       "      <td>E</td>\n",
       "      <td>Estimated value</td>\n",
       "      <td>NaN</td>\n",
       "    </tr>\n",
       "    <tr>\n",
       "      <th>35029</th>\n",
       "      <td>FBS</td>\n",
       "      <td>Food Balances (2010-)</td>\n",
       "      <td>798</td>\n",
       "      <td>Tuvalu</td>\n",
       "      <td>661</td>\n",
       "      <td>Food supply (kcal)</td>\n",
       "      <td>S2901</td>\n",
       "      <td>Grand Total</td>\n",
       "      <td>2019</td>\n",
       "      <td>2019</td>\n",
       "      <td>million Kcal</td>\n",
       "      <td>1.160799e+04</td>\n",
       "      <td>E</td>\n",
       "      <td>Estimated value</td>\n",
       "      <td>NaN</td>\n",
       "    </tr>\n",
       "    <tr>\n",
       "      <th>35031</th>\n",
       "      <td>FBS</td>\n",
       "      <td>Food Balances (2010-)</td>\n",
       "      <td>798</td>\n",
       "      <td>Tuvalu</td>\n",
       "      <td>661</td>\n",
       "      <td>Food supply (kcal)</td>\n",
       "      <td>S2901</td>\n",
       "      <td>Grand Total</td>\n",
       "      <td>2020</td>\n",
       "      <td>2020</td>\n",
       "      <td>million Kcal</td>\n",
       "      <td>1.196738e+04</td>\n",
       "      <td>E</td>\n",
       "      <td>Estimated value</td>\n",
       "      <td>NaN</td>\n",
       "    </tr>\n",
       "    <tr>\n",
       "      <th>35033</th>\n",
       "      <td>FBS</td>\n",
       "      <td>Food Balances (2010-)</td>\n",
       "      <td>798</td>\n",
       "      <td>Tuvalu</td>\n",
       "      <td>661</td>\n",
       "      <td>Food supply (kcal)</td>\n",
       "      <td>S2901</td>\n",
       "      <td>Grand Total</td>\n",
       "      <td>2021</td>\n",
       "      <td>2021</td>\n",
       "      <td>million Kcal</td>\n",
       "      <td>1.220026e+04</td>\n",
       "      <td>E</td>\n",
       "      <td>Estimated value</td>\n",
       "      <td>NaN</td>\n",
       "    </tr>\n",
       "    <tr>\n",
       "      <th>35035</th>\n",
       "      <td>FBS</td>\n",
       "      <td>Food Balances (2010-)</td>\n",
       "      <td>798</td>\n",
       "      <td>Tuvalu</td>\n",
       "      <td>661</td>\n",
       "      <td>Food supply (kcal)</td>\n",
       "      <td>S2901</td>\n",
       "      <td>Grand Total</td>\n",
       "      <td>2022</td>\n",
       "      <td>2022</td>\n",
       "      <td>million Kcal</td>\n",
       "      <td>1.226937e+04</td>\n",
       "      <td>E</td>\n",
       "      <td>Estimated value</td>\n",
       "      <td>NaN</td>\n",
       "    </tr>\n",
       "    <tr>\n",
       "      <th>...</th>\n",
       "      <td>...</td>\n",
       "      <td>...</td>\n",
       "      <td>...</td>\n",
       "      <td>...</td>\n",
       "      <td>...</td>\n",
       "      <td>...</td>\n",
       "      <td>...</td>\n",
       "      <td>...</td>\n",
       "      <td>...</td>\n",
       "      <td>...</td>\n",
       "      <td>...</td>\n",
       "      <td>...</td>\n",
       "      <td>...</td>\n",
       "      <td>...</td>\n",
       "      <td>...</td>\n",
       "    </tr>\n",
       "    <tr>\n",
       "      <th>6602</th>\n",
       "      <td>FBS</td>\n",
       "      <td>Food Balances (2010-)</td>\n",
       "      <td>159</td>\n",
       "      <td>China</td>\n",
       "      <td>661</td>\n",
       "      <td>Food supply (kcal)</td>\n",
       "      <td>S2901</td>\n",
       "      <td>Grand Total</td>\n",
       "      <td>2020</td>\n",
       "      <td>2020</td>\n",
       "      <td>million Kcal</td>\n",
       "      <td>1.764723e+09</td>\n",
       "      <td>E</td>\n",
       "      <td>Estimated value</td>\n",
       "      <td>NaN</td>\n",
       "    </tr>\n",
       "    <tr>\n",
       "      <th>7221</th>\n",
       "      <td>FBS</td>\n",
       "      <td>Food Balances (2010-)</td>\n",
       "      <td>156</td>\n",
       "      <td>China, mainland</td>\n",
       "      <td>661</td>\n",
       "      <td>Food supply (kcal)</td>\n",
       "      <td>S2901</td>\n",
       "      <td>Grand Total</td>\n",
       "      <td>2021</td>\n",
       "      <td>2021</td>\n",
       "      <td>million Kcal</td>\n",
       "      <td>1.772204e+09</td>\n",
       "      <td>E</td>\n",
       "      <td>Estimated value</td>\n",
       "      <td>NaN</td>\n",
       "    </tr>\n",
       "    <tr>\n",
       "      <th>7223</th>\n",
       "      <td>FBS</td>\n",
       "      <td>Food Balances (2010-)</td>\n",
       "      <td>156</td>\n",
       "      <td>China, mainland</td>\n",
       "      <td>661</td>\n",
       "      <td>Food supply (kcal)</td>\n",
       "      <td>S2901</td>\n",
       "      <td>Grand Total</td>\n",
       "      <td>2022</td>\n",
       "      <td>2022</td>\n",
       "      <td>million Kcal</td>\n",
       "      <td>1.796687e+09</td>\n",
       "      <td>E</td>\n",
       "      <td>Estimated value</td>\n",
       "      <td>NaN</td>\n",
       "    </tr>\n",
       "    <tr>\n",
       "      <th>6604</th>\n",
       "      <td>FBS</td>\n",
       "      <td>Food Balances (2010-)</td>\n",
       "      <td>159</td>\n",
       "      <td>China</td>\n",
       "      <td>661</td>\n",
       "      <td>Food supply (kcal)</td>\n",
       "      <td>S2901</td>\n",
       "      <td>Grand Total</td>\n",
       "      <td>2021</td>\n",
       "      <td>2021</td>\n",
       "      <td>million Kcal</td>\n",
       "      <td>1.806664e+09</td>\n",
       "      <td>E</td>\n",
       "      <td>Estimated value</td>\n",
       "      <td>NaN</td>\n",
       "    </tr>\n",
       "    <tr>\n",
       "      <th>6606</th>\n",
       "      <td>FBS</td>\n",
       "      <td>Food Balances (2010-)</td>\n",
       "      <td>159</td>\n",
       "      <td>China</td>\n",
       "      <td>661</td>\n",
       "      <td>Food supply (kcal)</td>\n",
       "      <td>S2901</td>\n",
       "      <td>Grand Total</td>\n",
       "      <td>2022</td>\n",
       "      <td>2022</td>\n",
       "      <td>million Kcal</td>\n",
       "      <td>1.831406e+09</td>\n",
       "      <td>E</td>\n",
       "      <td>Estimated value</td>\n",
       "      <td>NaN</td>\n",
       "    </tr>\n",
       "  </tbody>\n",
       "</table>\n",
       "<p>2384 rows × 15 columns</p>\n",
       "</div>"
      ],
      "text/plain": [
       "      Domain Code                 Domain  Area Code (M49)  \\\n",
       "24305         FBS  Food Balances (2010-)              530   \n",
       "35029         FBS  Food Balances (2010-)              798   \n",
       "35031         FBS  Food Balances (2010-)              798   \n",
       "35033         FBS  Food Balances (2010-)              798   \n",
       "35035         FBS  Food Balances (2010-)              798   \n",
       "...           ...                    ...              ...   \n",
       "6602          FBS  Food Balances (2010-)              159   \n",
       "7221          FBS  Food Balances (2010-)              156   \n",
       "7223          FBS  Food Balances (2010-)              156   \n",
       "6604          FBS  Food Balances (2010-)              159   \n",
       "6606          FBS  Food Balances (2010-)              159   \n",
       "\n",
       "                                Area  Element Code             Element  \\\n",
       "24305  Netherlands Antilles (former)           661  Food supply (kcal)   \n",
       "35029                         Tuvalu           661  Food supply (kcal)   \n",
       "35031                         Tuvalu           661  Food supply (kcal)   \n",
       "35033                         Tuvalu           661  Food supply (kcal)   \n",
       "35035                         Tuvalu           661  Food supply (kcal)   \n",
       "...                              ...           ...                 ...   \n",
       "6602                           China           661  Food supply (kcal)   \n",
       "7221                 China, mainland           661  Food supply (kcal)   \n",
       "7223                 China, mainland           661  Food supply (kcal)   \n",
       "6604                           China           661  Food supply (kcal)   \n",
       "6606                           China           661  Food supply (kcal)   \n",
       "\n",
       "      Item Code (FBS)         Item  Year Code  Year          Unit  \\\n",
       "24305           S2901  Grand Total       2010  2010  million Kcal   \n",
       "35029           S2901  Grand Total       2019  2019  million Kcal   \n",
       "35031           S2901  Grand Total       2020  2020  million Kcal   \n",
       "35033           S2901  Grand Total       2021  2021  million Kcal   \n",
       "35035           S2901  Grand Total       2022  2022  million Kcal   \n",
       "...               ...          ...        ...   ...           ...   \n",
       "6602            S2901  Grand Total       2020  2020  million Kcal   \n",
       "7221            S2901  Grand Total       2021  2021  million Kcal   \n",
       "7223            S2901  Grand Total       2022  2022  million Kcal   \n",
       "6604            S2901  Grand Total       2021  2021  million Kcal   \n",
       "6606            S2901  Grand Total       2022  2022  million Kcal   \n",
       "\n",
       "              Value Flag Flag Description  Note  \n",
       "24305  3.567050e+03    E  Estimated value   NaN  \n",
       "35029  1.160799e+04    E  Estimated value   NaN  \n",
       "35031  1.196738e+04    E  Estimated value   NaN  \n",
       "35033  1.220026e+04    E  Estimated value   NaN  \n",
       "35035  1.226937e+04    E  Estimated value   NaN  \n",
       "...             ...  ...              ...   ...  \n",
       "6602   1.764723e+09    E  Estimated value   NaN  \n",
       "7221   1.772204e+09    E  Estimated value   NaN  \n",
       "7223   1.796687e+09    E  Estimated value   NaN  \n",
       "6604   1.806664e+09    E  Estimated value   NaN  \n",
       "6606   1.831406e+09    E  Estimated value   NaN  \n",
       "\n",
       "[2384 rows x 15 columns]"
      ]
     },
     "execution_count": 29,
     "metadata": {},
     "output_type": "execute_result"
    }
   ],
   "source": [
    "food_balances_df[(food_balances_df['Item']=='Grand Total') & (food_balances_df['Element']=='Food supply (kcal)')].sort_values('Value')"
   ]
  },
  {
   "cell_type": "code",
   "execution_count": null,
   "metadata": {},
   "outputs": [],
   "source": []
  }
 ],
 "metadata": {
  "kernelspec": {
   "display_name": "ada",
   "language": "python",
   "name": "python3"
  },
  "language_info": {
   "codemirror_mode": {
    "name": "ipython",
    "version": 3
   },
   "file_extension": ".py",
   "mimetype": "text/x-python",
   "name": "python",
   "nbconvert_exporter": "python",
   "pygments_lexer": "ipython3",
   "version": "3.12.8"
  }
 },
 "nbformat": 4,
 "nbformat_minor": 2
}
